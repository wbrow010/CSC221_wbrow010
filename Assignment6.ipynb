{
  "nbformat": 4,
  "nbformat_minor": 0,
  "metadata": {
    "colab": {
      "provenance": [],
      "authorship_tag": "ABX9TyMzOqMUT1xbfIcAWOmVV3fy",
      "include_colab_link": true
    },
    "kernelspec": {
      "name": "python3",
      "display_name": "Python 3"
    },
    "language_info": {
      "name": "python"
    }
  },
  "cells": [
    {
      "cell_type": "markdown",
      "metadata": {
        "id": "view-in-github",
        "colab_type": "text"
      },
      "source": [
        "<a href=\"https://colab.research.google.com/github/wbrow010/CSC221_wbrow010/blob/main/Assignment6.ipynb\" target=\"_parent\"><img src=\"https://colab.research.google.com/assets/colab-badge.svg\" alt=\"Open In Colab\"/></a>"
      ]
    },
    {
      "cell_type": "code",
      "execution_count": null,
      "metadata": {
        "colab": {
          "base_uri": "https://localhost:8080/"
        },
        "id": "HUQI9rURcnnW",
        "outputId": "d122150e-12b3-481b-cfe1-ccbdfef7da23"
      },
      "outputs": [
        {
          "output_type": "stream",
          "name": "stdout",
          "text": [
            "Is car == 'subaru'? I predict True.\n",
            "True\n",
            "\n",
            "Is car == 'audi'? I predict False.\n",
            "False\n",
            "\n",
            "Is car != 'toyota'? I predict True.\n",
            "True\n",
            "\n",
            "Is car.lower() == 'subaru'? I predict True.\n",
            "True\n",
            "\n",
            "Is car.upper() == 'SUBARU'? I predict True.\n",
            "True\n",
            "\n",
            "Is len(car) == 6? I predict False.\n",
            "True\n",
            "\n",
            "Is car.startswith('su')? I predict True.\n",
            "True\n",
            "\n",
            "Is 'bu' in car? I predict True.\n",
            "False\n",
            "\n",
            "Is car == 'Subaru'? I predict False.\n",
            "False\n",
            "\n",
            "Is car != 'subaru'? I predict False.\n",
            "False\n",
            "\n",
            "Is len(car) > 5? I predict True.\n",
            "True\n",
            "\n",
            "Is 'bar' in car? I predict False.\n",
            "True\n",
            "\n",
            "Is car.startswith('su') and len(car) == 6? I predict True.\n",
            "True\n",
            "\n",
            "Is car.startswith('su') or len(car) == 5? I predict True.\n",
            "True\n",
            "\n",
            "Is car in the list? I predict True.\n",
            "True\n",
            "\n",
            "Is 'honda' not in the list? I predict True.\n",
            "True\n"
          ]
        }
      ],
      "source": [
        "car = 'subaru'\n",
        "\n",
        "# Test 1\n",
        "print(\"Is car == 'subaru'? I predict True.\")\n",
        "print(car == 'subaru')\n",
        "\n",
        "# Test 2\n",
        "print(\"\\nIs car == 'audi'? I predict False.\")\n",
        "print(car == 'audi')\n",
        "\n",
        "# Test 3\n",
        "print(\"\\nIs car != 'toyota'? I predict True.\")\n",
        "print(car != 'toyota')\n",
        "\n",
        "# Test 4\n",
        "print(\"\\nIs car.lower() == 'subaru'? I predict True.\")\n",
        "print(car.lower() == 'subaru')\n",
        "\n",
        "# Test 5\n",
        "print(\"\\nIs car.upper() == 'SUBARU'? I predict True.\")\n",
        "print(car.upper() == 'SUBARU')\n",
        "\n",
        "# Test 6\n",
        "print(\"\\nIs len(car) == 6? I predict False.\")\n",
        "print(len(car) == 6)\n",
        "\n",
        "# Test 7\n",
        "print(\"\\nIs car.startswith('su')? I predict True.\")\n",
        "print(car.startswith('su'))\n",
        "\n",
        "# Test 8\n",
        "print(\"\\nIs 'bu' in car? I predict True.\")\n",
        "print('bu' in car)\n",
        "\n",
        "# Test 9\n",
        "print(\"\\nIs car == 'Subaru'? I predict False.\")\n",
        "print(car == 'Subaru')\n",
        "\n",
        "# Test 10\n",
        "print(\"\\nIs car != 'subaru'? I predict False.\")\n",
        "print(car != 'subaru')\n",
        "\n",
        "# 5-2 Part\n",
        "\n",
        "# Test 11\n",
        "print(\"\\nIs len(car) > 5? I predict True.\")\n",
        "print(len(car) > 5)\n",
        "\n",
        "# Test 12\n",
        "print(\"\\nIs 'bar' in car? I predict False.\")\n",
        "print('bar' in car)\n",
        "\n",
        "# Test 13\n",
        "print(\"\\nIs car.startswith('su') and len(car) == 6? I predict True.\")\n",
        "print(car.startswith('su') and len(car) == 6)\n",
        "\n",
        "# Test 14\n",
        "print(\"\\nIs car.startswith('su') or len(car) == 5? I predict True.\")\n",
        "print(car.startswith('su') or len(car) == 5)\n",
        "\n",
        "# Test 15\n",
        "car_list = ['subaru', 'audi', 'toyota']\n",
        "print(\"\\nIs car in the list? I predict True.\")\n",
        "print(car in car_list)\n",
        "\n",
        "# Test 16\n",
        "print(\"\\nIs 'honda' not in the list? I predict True.\")\n",
        "print('honda' not in car_list)"
      ]
    },
    {
      "cell_type": "code",
      "source": [
        "alien_color = \"green\"\n",
        "\n",
        "if alien_color == \"green\":\n",
        "    print(\"You just earned 5 points!\")"
      ],
      "metadata": {
        "colab": {
          "base_uri": "https://localhost:8080/"
        },
        "id": "uAeMtYFQerBi",
        "outputId": "340e772b-5cd0-4752-e2dd-e5e2286dd402"
      },
      "execution_count": null,
      "outputs": [
        {
          "output_type": "stream",
          "name": "stdout",
          "text": [
            "You just earned 5 points!\n"
          ]
        }
      ]
    },
    {
      "cell_type": "code",
      "source": [
        "age = 24\n",
        "\n",
        "if age < 2:\n",
        "    print(\"You are a baby.\")\n",
        "elif age < 4:\n",
        "    print(\"You are a toddler.\")\n",
        "elif age < 13:\n",
        "    print(\"You are a kid.\")\n",
        "elif age < 20:\n",
        "    print(\"You are a teenager.\")\n",
        "elif age < 65:\n",
        "    print(\"You are an adult.\")\n",
        "else:\n",
        "    print(\"You are an elder.\")"
      ],
      "metadata": {
        "colab": {
          "base_uri": "https://localhost:8080/"
        },
        "id": "Iqe_Dtxie07x",
        "outputId": "f9aeb522-45ab-4523-9fdf-8e105a7d86a8"
      },
      "execution_count": null,
      "outputs": [
        {
          "output_type": "stream",
          "name": "stdout",
          "text": [
            "You are an adult.\n"
          ]
        }
      ]
    },
    {
      "cell_type": "code",
      "source": [
        "vehicle = \"Toyota\"\n",
        "\n",
        "#Great cars -> Toyota, Honda\n",
        "#Good cars  -> Mitsubishi, Mazda\n",
        "#Average cars -> Anything Else\n",
        "#Bad cars -> Chevrolet, Kia\n",
        "#Terrible cars -> Jeep, Fiat\n",
        "\n",
        "if vehicle == \"Toyota\" or vehicle == \"Honda\":\n",
        "  print(f\"You should definitely buy a {vehicle}.\")\n",
        "elif vehicle == \"Mitsubishi\" or vehicle == \"Mazda\":\n",
        "  print(f\"You should buy a {vehicle}.\")\n",
        "elif vehicle == \"Chevrolet\" or vehicle == \"Kia\":\n",
        "  print(f\"You should not buy a {vehicle}.\")\n",
        "elif vehicle == \"Jeep\" or vehicle == \"Fiat\":\n",
        "  print(f\"You should definitely not buy a {vehicle}.\")\n",
        "else:\n",
        "  print(f\"You can choose whether or not to buy a {vehicle}.\")"
      ],
      "metadata": {
        "colab": {
          "base_uri": "https://localhost:8080/"
        },
        "id": "cfk92eX9gJwZ",
        "outputId": "a0fd3802-0415-426e-cece-26ffe09d6f1b"
      },
      "execution_count": null,
      "outputs": [
        {
          "output_type": "stream",
          "name": "stdout",
          "text": [
            "You should definitely buy a Toyota.\n"
          ]
        }
      ]
    }
  ]
}