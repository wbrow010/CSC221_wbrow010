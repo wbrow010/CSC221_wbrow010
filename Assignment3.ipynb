{
  "nbformat": 4,
  "nbformat_minor": 0,
  "metadata": {
    "colab": {
      "provenance": [],
      "authorship_tag": "ABX9TyNyc3PNiFlTMFu7R5RN1CRA",
      "include_colab_link": true
    },
    "kernelspec": {
      "name": "python3",
      "display_name": "Python 3"
    },
    "language_info": {
      "name": "python"
    }
  },
  "cells": [
    {
      "cell_type": "markdown",
      "metadata": {
        "id": "view-in-github",
        "colab_type": "text"
      },
      "source": [
        "<a href=\"https://colab.research.google.com/github/wbrow010/CSC221_wbrow010/blob/main/Assignment3.ipynb\" target=\"_parent\"><img src=\"https://colab.research.google.com/assets/colab-badge.svg\" alt=\"Open In Colab\"/></a>"
      ]
    },
    {
      "cell_type": "code",
      "execution_count": 10,
      "metadata": {
        "colab": {
          "base_uri": "https://localhost:8080/"
        },
        "id": "hRtJJcvsQQTe",
        "outputId": "edaf8088-4b5d-4716-938f-af2b03b47272"
      },
      "outputs": [
        {
          "output_type": "stream",
          "name": "stdout",
          "text": [
            "What is your name?\n",
            "Hello, Waylon would you like to learn some python today?\n"
          ]
        }
      ],
      "source": [
        "print(\"What is your name?\")\n",
        "name = \"Waylon\"\n",
        "print(\"Hello, \" + name + \" would you like to learn some python today?\")"
      ]
    },
    {
      "cell_type": "code",
      "source": [
        "name = \"waylon\"\n",
        "print(name.lower())\n",
        "print(name.upper())\n",
        "print(name.title())"
      ],
      "metadata": {
        "colab": {
          "base_uri": "https://localhost:8080/"
        },
        "id": "_cMmW3WlQ47g",
        "outputId": "406f025c-07a8-46a5-ee29-8f7110c490be"
      },
      "execution_count": 9,
      "outputs": [
        {
          "output_type": "stream",
          "name": "stdout",
          "text": [
            "waylon\n",
            "WAYLON\n",
            "Waylon\n"
          ]
        }
      ]
    },
    {
      "cell_type": "code",
      "source": [
        "quote = '''\\\n",
        "    Albert Einstein once said:\" Only a life lived for others is worth living.\"'''\n",
        "\n",
        "print(quote)\n",
        ""
      ],
      "metadata": {
        "colab": {
          "base_uri": "https://localhost:8080/"
        },
        "id": "5g7g8tacQ1fM",
        "outputId": "3686f4f1-3cf8-4cb9-e355-aacc45ea4428"
      },
      "execution_count": 8,
      "outputs": [
        {
          "output_type": "stream",
          "name": "stdout",
          "text": [
            "    Albert Einstein once said:\" Only a life lived for others is worth living.\"\n"
          ]
        }
      ]
    },
    {
      "cell_type": "code",
      "source": [
        "famous_person = \"Albert Einstein\"\n",
        "print(famous_person + ' once said: \"Only a life lived for others is worth living\"')"
      ],
      "metadata": {
        "colab": {
          "base_uri": "https://localhost:8080/"
        },
        "id": "upeIKrO4Q42J",
        "outputId": "08a24043-87b1-457c-d34a-9400e92f49cd"
      },
      "execution_count": 7,
      "outputs": [
        {
          "output_type": "stream",
          "name": "stdout",
          "text": [
            "Albert Einstein once said: \"Only a life lived for others is worth living\"\n"
          ]
        }
      ]
    },
    {
      "cell_type": "code",
      "source": [
        "name = \"\\t Waylon Brown \\n\"\n",
        "print(name.lstrip())\n",
        "print(name.rstrip())\n",
        "print(name.strip())"
      ],
      "metadata": {
        "colab": {
          "base_uri": "https://localhost:8080/"
        },
        "id": "ZjY0N2WBRR3R",
        "outputId": "a7eccdc8-16b6-4502-ef2a-e0e801b9c200"
      },
      "execution_count": 6,
      "outputs": [
        {
          "output_type": "stream",
          "name": "stdout",
          "text": [
            "Waylon Brown \n",
            "\n",
            "\t Waylon Brown\n",
            "Waylon Brown\n"
          ]
        }
      ]
    },
    {
      "cell_type": "code",
      "source": [
        "filename = \"python_notes.txt\"\n",
        "print(filename.removesuffix(\".txt\"))"
      ],
      "metadata": {
        "colab": {
          "base_uri": "https://localhost:8080/"
        },
        "id": "M7dWA7ngRjAT",
        "outputId": "929d14a6-95d6-4abb-85fe-5088ac9fb122"
      },
      "execution_count": 5,
      "outputs": [
        {
          "output_type": "stream",
          "name": "stdout",
          "text": [
            "python_notes\n"
          ]
        }
      ]
    }
  ]
}