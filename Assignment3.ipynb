{
  "nbformat": 4,
  "nbformat_minor": 0,
  "metadata": {
    "colab": {
      "provenance": [],
      "authorship_tag": "ABX9TyP4FEMuLSlsKcNcwM93dfv1",
      "include_colab_link": true
    },
    "kernelspec": {
      "name": "python3",
      "display_name": "Python 3"
    },
    "language_info": {
      "name": "python"
    }
  },
  "cells": [
    {
      "cell_type": "markdown",
      "metadata": {
        "id": "view-in-github",
        "colab_type": "text"
      },
      "source": [
        "<a href=\"https://colab.research.google.com/github/wbrow010/CSC221_wbrow010/blob/main/Assignment3.ipynb\" target=\"_parent\"><img src=\"https://colab.research.google.com/assets/colab-badge.svg\" alt=\"Open In Colab\"/></a>"
      ]
    },
    {
      "cell_type": "code",
      "source": [
        "msg = \"This is a simple message.\"\n",
        "print(msg)"
      ],
      "metadata": {
        "id": "2gnMyfDRUAoB",
        "outputId": "2d11a044-f23e-465a-d701-4f4898691e7d",
        "colab": {
          "base_uri": "https://localhost:8080/"
        }
      },
      "execution_count": 10,
      "outputs": [
        {
          "output_type": "stream",
          "name": "stdout",
          "text": [
            "This is a simple message.\n"
          ]
        }
      ]
    },
    {
      "cell_type": "code",
      "source": [
        "#create and set message\n",
        "msg = \"This is a simple message.\"\n",
        "#print message\n",
        "print(msg)\n",
        "\n",
        "#change message\n",
        "msg = \"This message has changed.\"\n",
        "#print changed message\n",
        "print(msg)"
      ],
      "metadata": {
        "id": "SWnyhNE9UM7G",
        "outputId": "27394f9b-ffa1-452b-a96b-8cd92eca14f6",
        "colab": {
          "base_uri": "https://localhost:8080/"
        }
      },
      "execution_count": 11,
      "outputs": [
        {
          "output_type": "stream",
          "name": "stdout",
          "text": [
            "This is a simple message.\n",
            "This message has changed.\n"
          ]
        }
      ]
    },
    {
      "cell_type": "code",
      "execution_count": 12,
      "metadata": {
        "colab": {
          "base_uri": "https://localhost:8080/"
        },
        "id": "hRtJJcvsQQTe",
        "outputId": "b8a34f6a-3de8-4445-9aea-042c462164d6"
      },
      "outputs": [
        {
          "output_type": "stream",
          "name": "stdout",
          "text": [
            "What is your name?\n",
            "Hello, Waylon would you like to learn some python today?\n"
          ]
        }
      ],
      "source": [
        "print(\"What is your name?\")\n",
        "name = \"Waylon\"\n",
        "print(\"Hello, \" + name + \" would you like to learn some python today?\")"
      ]
    },
    {
      "cell_type": "code",
      "source": [
        "name = \"waylon\"\n",
        "print(name.lower())\n",
        "print(name.upper())\n",
        "print(name.title())"
      ],
      "metadata": {
        "colab": {
          "base_uri": "https://localhost:8080/"
        },
        "id": "_cMmW3WlQ47g",
        "outputId": "8d7949a5-c87b-45db-a201-240a3ccc7fe9"
      },
      "execution_count": 13,
      "outputs": [
        {
          "output_type": "stream",
          "name": "stdout",
          "text": [
            "waylon\n",
            "WAYLON\n",
            "Waylon\n"
          ]
        }
      ]
    },
    {
      "cell_type": "code",
      "source": [
        "quote = '''\\\n",
        "    Albert Einstein once said:\" Only a life lived for others is worth living.\"'''\n",
        "\n",
        "print(quote)\n"
      ],
      "metadata": {
        "colab": {
          "base_uri": "https://localhost:8080/"
        },
        "id": "5g7g8tacQ1fM",
        "outputId": "f5e17765-5814-42ff-a947-cc35fbc5ea4c"
      },
      "execution_count": 14,
      "outputs": [
        {
          "output_type": "stream",
          "name": "stdout",
          "text": [
            "    Albert Einstein once said:\" Only a life lived for others is worth living.\"\n"
          ]
        }
      ]
    },
    {
      "cell_type": "code",
      "source": [
        "famous_person = \"Albert Einstein\"\n",
        "print(famous_person + ' once said: \"Only a life lived for others is worth living\"')"
      ],
      "metadata": {
        "colab": {
          "base_uri": "https://localhost:8080/"
        },
        "id": "upeIKrO4Q42J",
        "outputId": "a202a40f-73c4-4568-e94d-093afb9bf2ef"
      },
      "execution_count": 16,
      "outputs": [
        {
          "output_type": "stream",
          "name": "stdout",
          "text": [
            "Albert Einstein once said: \"Only a life lived for others is worth living\"\n"
          ]
        }
      ]
    },
    {
      "cell_type": "code",
      "source": [
        "name = \"\\t Waylon Brown \\n\"\n",
        "print(name.lstrip())\n",
        "print(name.rstrip())\n",
        "print(name.strip())"
      ],
      "metadata": {
        "colab": {
          "base_uri": "https://localhost:8080/"
        },
        "id": "ZjY0N2WBRR3R",
        "outputId": "1cbc4d73-6d3e-42c3-cc03-d3f3a5049398"
      },
      "execution_count": 15,
      "outputs": [
        {
          "output_type": "stream",
          "name": "stdout",
          "text": [
            "Waylon Brown \n",
            "\n",
            "\t Waylon Brown\n",
            "Waylon Brown\n"
          ]
        }
      ]
    },
    {
      "cell_type": "code",
      "source": [
        "#create and set filename variable\n",
        "filename = \"python_notes.txt\"\n",
        "#print filename without .txt suffix\n",
        "print(filename.removesuffix(\".txt\"))"
      ],
      "metadata": {
        "colab": {
          "base_uri": "https://localhost:8080/"
        },
        "id": "M7dWA7ngRjAT",
        "outputId": "9ec9680a-5a59-425d-f636-2bf42ffd557a"
      },
      "execution_count": 17,
      "outputs": [
        {
          "output_type": "stream",
          "name": "stdout",
          "text": [
            "python_notes\n"
          ]
        }
      ]
    },
    {
      "cell_type": "code",
      "source": [
        "print(5+3)\n",
        "print(9-1)\n",
        "print(16/2)\n",
        "print(2*4)"
      ],
      "metadata": {
        "id": "1s-wzOwwUli5",
        "outputId": "3ee876a1-8e3e-43b1-f8d5-2275014cb193",
        "colab": {
          "base_uri": "https://localhost:8080/"
        }
      },
      "execution_count": 18,
      "outputs": [
        {
          "output_type": "stream",
          "name": "stdout",
          "text": [
            "8\n",
            "8\n",
            "8.0\n",
            "8\n"
          ]
        }
      ]
    },
    {
      "cell_type": "code",
      "source": [
        "fav_num = 64\n",
        "message = f\"My favorite number is {fav_num}.\"\n",
        "\n",
        "print(message)"
      ],
      "metadata": {
        "id": "oUKUD7KdVCQS",
        "outputId": "d3f5a218-3070-4c76-cc43-d4b06a1c596f",
        "colab": {
          "base_uri": "https://localhost:8080/"
        }
      },
      "execution_count": 19,
      "outputs": [
        {
          "output_type": "stream",
          "name": "stdout",
          "text": [
            "My favorite number is 64.\n"
          ]
        }
      ]
    }
  ]
}