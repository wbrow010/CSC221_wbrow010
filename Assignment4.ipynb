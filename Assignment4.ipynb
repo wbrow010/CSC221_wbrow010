{
  "nbformat": 4,
  "nbformat_minor": 0,
  "metadata": {
    "colab": {
      "provenance": [],
      "authorship_tag": "ABX9TyMJlpb/a1L64NsfvQ+IfeUd",
      "include_colab_link": true
    },
    "kernelspec": {
      "name": "python3",
      "display_name": "Python 3"
    },
    "language_info": {
      "name": "python"
    }
  },
  "cells": [
    {
      "cell_type": "markdown",
      "metadata": {
        "id": "view-in-github",
        "colab_type": "text"
      },
      "source": [
        "<a href=\"https://colab.research.google.com/github/wbrow010/CSC221_wbrow010/blob/main/Assignment4.ipynb\" target=\"_parent\"><img src=\"https://colab.research.google.com/assets/colab-badge.svg\" alt=\"Open In Colab\"/></a>"
      ]
    },
    {
      "cell_type": "code",
      "execution_count": null,
      "metadata": {
        "id": "Dws0NVCkTg7A",
        "colab": {
          "base_uri": "https://localhost:8080/",
          "height": 245
        },
        "outputId": "e56711dc-0dd7-4f28-b54b-d17c454df83d"
      },
      "outputs": [
        {
          "output_type": "error",
          "ename": "NameError",
          "evalue": "name 'names' is not defined",
          "traceback": [
            "\u001b[0;31m---------------------------------------------------------------------------\u001b[0m",
            "\u001b[0;31mNameError\u001b[0m                                 Traceback (most recent call last)",
            "\u001b[0;32m<ipython-input-1-21d42a8caac9>\u001b[0m in \u001b[0;36m<cell line: 3>\u001b[0;34m()\u001b[0m\n\u001b[1;32m      1\u001b[0m \u001b[0mames\u001b[0m \u001b[0;34m=\u001b[0m \u001b[0;34m[\u001b[0m\u001b[0;34m'Tom'\u001b[0m\u001b[0;34m,\u001b[0m \u001b[0;34m'Mike'\u001b[0m\u001b[0;34m,\u001b[0m \u001b[0;34m'Dan'\u001b[0m\u001b[0;34m]\u001b[0m\u001b[0;34m\u001b[0m\u001b[0;34m\u001b[0m\u001b[0m\n\u001b[1;32m      2\u001b[0m \u001b[0;34m\u001b[0m\u001b[0m\n\u001b[0;32m----> 3\u001b[0;31m \u001b[0mprint\u001b[0m\u001b[0;34m(\u001b[0m\u001b[0mnames\u001b[0m\u001b[0;34m[\u001b[0m\u001b[0;36m0\u001b[0m\u001b[0;34m]\u001b[0m\u001b[0;34m)\u001b[0m\u001b[0;34m\u001b[0m\u001b[0;34m\u001b[0m\u001b[0m\n\u001b[0m\u001b[1;32m      4\u001b[0m \u001b[0mprint\u001b[0m\u001b[0;34m(\u001b[0m\u001b[0mnames\u001b[0m\u001b[0;34m[\u001b[0m\u001b[0;36m1\u001b[0m\u001b[0;34m]\u001b[0m\u001b[0;34m)\u001b[0m\u001b[0;34m\u001b[0m\u001b[0;34m\u001b[0m\u001b[0m\n\u001b[1;32m      5\u001b[0m \u001b[0mprint\u001b[0m\u001b[0;34m(\u001b[0m\u001b[0mnames\u001b[0m\u001b[0;34m[\u001b[0m\u001b[0;36m2\u001b[0m\u001b[0;34m]\u001b[0m\u001b[0;34m)\u001b[0m\u001b[0;34m\u001b[0m\u001b[0;34m\u001b[0m\u001b[0m\n",
            "\u001b[0;31mNameError\u001b[0m: name 'names' is not defined"
          ]
        }
      ],
      "source": [
        "# 3-1: Names\n",
        "\n",
        "names = ['Tom', 'Mike', 'Dan']\n",
        "\n",
        "print(names[0])\n",
        "print(names[1])\n",
        "print(names[2])"
      ]
    },
    {
      "cell_type": "code",
      "source": [
        "# 3-2: Greetings\n",
        "\n",
        "names = ['Tom', 'Mike', 'Dan']\n",
        "\n",
        "msg = f\"Hello, {names[0].title()}!\"\n",
        "print(msg)\n",
        "\n",
        "msg = f\"Hello, {names[1].title()}!\"\n",
        "print(msg)\n",
        "\n",
        "msg = f\"Hello, {names[2].title()}!\"\n",
        "print(msg)"
      ],
      "metadata": {
        "colab": {
          "base_uri": "https://localhost:8080/"
        },
        "id": "JKKujPmXWDGy",
        "outputId": "0c8e6476-5d90-44fa-8a5f-20096be12ecf"
      },
      "execution_count": null,
      "outputs": [
        {
          "output_type": "stream",
          "name": "stdout",
          "text": [
            "Hello, Tom!\n",
            "Hello, Mike!\n",
            "Hello, Dan!\n"
          ]
        }
      ]
    },
    {
      "cell_type": "code",
      "source": [
        "# 3-3: Your Own List\n",
        "\n",
        "items = ['Porsche', 'RTX 4090', 'House']\n",
        "\n",
        "msg = f\"I would like to own a {items[0].title()}!\"\n",
        "print(msg)\n",
        "\n",
        "msg = f\"I would like to own a {items[1].title()}!\"\n",
        "print(msg)\n",
        "\n",
        "msg = f\"I would like to own a {items[2].title()}!\"\n",
        "print(msg)"
      ],
      "metadata": {
        "colab": {
          "base_uri": "https://localhost:8080/"
        },
        "id": "4h593KWcWosb",
        "outputId": "3407aabf-1908-4d66-f43a-e9cb30acee57"
      },
      "execution_count": null,
      "outputs": [
        {
          "output_type": "stream",
          "name": "stdout",
          "text": [
            "I would like to own a Porsche!\n",
            "I would like to own a Rtx 4090!\n",
            "I would like to own a House!\n"
          ]
        }
      ]
    },
    {
      "cell_type": "code",
      "source": [
        "# 3-4: Guest List\n",
        "\n",
        "guests = ['Jay-Z', 'Joe Walsh', 'Seth Macfarlane']\n",
        "\n",
        "name = guests[0].title()\n",
        "print(f\"{name}, please come to dinner.\")\n",
        "\n",
        "name = guests[1].title()\n",
        "print(f\"{name}, please come to dinner.\")\n",
        "\n",
        "name = guests[2].title()\n",
        "print(f\"{name}, please come to dinner.\")"
      ],
      "metadata": {
        "colab": {
          "base_uri": "https://localhost:8080/"
        },
        "id": "yYUj9FwbWMef",
        "outputId": "150d0f65-db9a-4e93-b03d-8daf408fdd85"
      },
      "execution_count": null,
      "outputs": [
        {
          "output_type": "stream",
          "name": "stdout",
          "text": [
            "Jay-Z, please come to dinner.\n",
            "Joe Walsh, please come to dinner.\n",
            "Seth Macfarlane, please come to dinner.\n"
          ]
        }
      ]
    },
    {
      "cell_type": "code",
      "source": [
        "# 3-5: Changing Guest List\n",
        "\n",
        "guests = ['Jay-Z', 'Joe Walsh', 'Seth Macfarlane']\n",
        "\n",
        "name = guests[0].title()\n",
        "print(f\"{name}, please come to dinner.\")\n",
        "\n",
        "name = guests[1].title()\n",
        "print(f\"{name}, please come to dinner.\")\n",
        "\n",
        "name = guests[2].title()\n",
        "print(f\"{name}, please come to dinner.\")\n",
        "\n",
        "name = guests[1].title()\n",
        "print(f\"\\n{name} can't make it to dinner.\")\n",
        "\n",
        "del(guests[1])\n",
        "guests.insert(1, 'David Attenborough')\n",
        "\n",
        "name = guests[0].title()\n",
        "print(f\"\\n{name}, please come to dinner.\")\n",
        "\n",
        "name = guests[1].title()\n",
        "print(f\"{name}, please come to dinner.\")\n",
        "\n",
        "name = guests[2].title()\n",
        "print(f\"{name}, please come to dinner.\")"
      ],
      "metadata": {
        "colab": {
          "base_uri": "https://localhost:8080/"
        },
        "id": "PXVsToViXIqF",
        "outputId": "c070d671-7624-45ef-8c54-ddfa0d51a760"
      },
      "execution_count": null,
      "outputs": [
        {
          "output_type": "stream",
          "name": "stdout",
          "text": [
            "Jay-Z, please come to dinner.\n",
            "Joe Walsh, please come to dinner.\n",
            "Seth Macfarlane, please come to dinner.\n",
            "\n",
            "Joe Walsh can't make it to dinner.\n",
            "\n",
            "Jay-Z, please come to dinner.\n",
            "David Attenborough, please come to dinner.\n",
            "Seth Macfarlane, please come to dinner.\n"
          ]
        }
      ]
    },
    {
      "cell_type": "code",
      "source": [
        "# 3-6: More Guests\n",
        "\n",
        "guests = ['Jay-Z', 'Joe Walsh', 'Seth Macfarlane']\n",
        "\n",
        "name = guests[0].title()\n",
        "print(f\"{name}, please come to dinner.\")\n",
        "\n",
        "name = guests[1].title()\n",
        "print(f\"{name}, please come to dinner.\")\n",
        "\n",
        "name = guests[2].title()\n",
        "print(f\"{name}, please come to dinner.\")\n",
        "\n",
        "\n",
        "name = guests[1].title()\n",
        "print(f\"\\n{name} can't make it to dinner.\")\n",
        "\n",
        "del(guests[1])\n",
        "guests.insert(1, 'David Attenborough')\n",
        "\n",
        "\n",
        "name = guests[0].title()\n",
        "print(f\"\\n{name}, please come to dinner.\")\n",
        "\n",
        "name = guests[1].title()\n",
        "print(f\"{name}, please come to dinner.\")\n",
        "\n",
        "name = guests[2].title()\n",
        "print(f\"{name}, please come to dinner.\")\n",
        "\n",
        "\n",
        "print(\"\\nFound bigger table\")\n",
        "guests.insert(0, 'Greta Thunberg')\n",
        "guests.insert(2, 'Max Verstappen')\n",
        "guests.append('Keanu Reeves')\n",
        "\n",
        "name = guests[0].title()\n",
        "print(f\"{name}, please come to dinner.\")\n",
        "\n",
        "name = guests[1].title()\n",
        "print(f\"{name}, please come to dinner.\")\n",
        "\n",
        "name = guests[2].title()\n",
        "print(f\"{name}, please come to dinner.\")\n",
        "\n",
        "name = guests[3].title()\n",
        "print(f\"{name}, please come to dinner.\")\n",
        "\n",
        "name = guests[4].title()\n",
        "print(f\"{name}, please come to dinner.\")\n",
        "\n",
        "name = guests[5].title()"
      ],
      "metadata": {
        "colab": {
          "base_uri": "https://localhost:8080/"
        },
        "id": "Je1uQqGOXp1J",
        "outputId": "0711f20a-394b-41c6-f595-3c19588565f0"
      },
      "execution_count": null,
      "outputs": [
        {
          "output_type": "stream",
          "name": "stdout",
          "text": [
            "Jay-Z, please come to dinner.\n",
            "Joe Walsh, please come to dinner.\n",
            "Seth Macfarlane, please come to dinner.\n",
            "\n",
            "Joe Walsh can't make it to dinner.\n",
            "\n",
            "Jay-Z, please come to dinner.\n",
            "David Attenborough, please come to dinner.\n",
            "Seth Macfarlane, please come to dinner.\n",
            "\n",
            "Found bigger table\n",
            "Greta Thunberg, please come to dinner.\n",
            "Jay-Z, please come to dinner.\n",
            "Max Verstappen, please come to dinner.\n",
            "David Attenborough, please come to dinner.\n",
            "Seth Macfarlane, please come to dinner.\n"
          ]
        }
      ]
    },
    {
      "cell_type": "code",
      "source": [
        "# 3-7: Shrinking Guest List\n",
        "\n",
        "guests = ['Jay-Z', 'Joe Walsh', 'Seth Macfarlane']\n",
        "\n",
        "name = guests[0].title()\n",
        "print(f\"{name}, please come to dinner.\")\n",
        "\n",
        "name = guests[1].title()\n",
        "print(f\"{name}, please come to dinner.\")\n",
        "\n",
        "name = guests[2].title()\n",
        "print(f\"{name}, please come to dinner.\")\n",
        "\n",
        "\n",
        "name = guests[1].title()\n",
        "print(f\"\\n{name} can't make it to dinner.\")\n",
        "\n",
        "del(guests[1])\n",
        "guests.insert(1, 'David Attenborough')\n",
        "\n",
        "\n",
        "name = guests[0].title()\n",
        "print(f\"\\n{name}, please come to dinner.\")\n",
        "\n",
        "name = guests[1].title()\n",
        "print(f\"{name}, please come to dinner.\")\n",
        "\n",
        "name = guests[2].title()\n",
        "print(f\"{name}, please come to dinner.\")\n",
        "\n",
        "\n",
        "print(\"\\nFound bigger table\")\n",
        "guests.insert(0, 'Greta Thunberg')\n",
        "guests.insert(2, 'Max Verstappen')\n",
        "guests.append('Keanu Reeves')\n",
        "\n",
        "name = guests[0].title()\n",
        "print(f\"{name}, please come to dinner.\")\n",
        "\n",
        "name = guests[1].title()\n",
        "print(f\"{name}, please come to dinner.\")\n",
        "\n",
        "name = guests[2].title()\n",
        "print(f\"{name}, please come to dinner.\")\n",
        "\n",
        "name = guests[3].title()\n",
        "print(f\"{name}, please come to dinner.\")\n",
        "\n",
        "name = guests[4].title()\n",
        "print(f\"{name}, please come to dinner.\")\n",
        "\n",
        "name = guests[5].title()\n",
        "\n",
        "\n",
        "print(\"\\nTable size shrunk.\")\n",
        "\n",
        "name = guests.pop()\n",
        "print(f\"{name.title()} had to leave dinner.\")\n",
        "\n",
        "name = guests.pop()\n",
        "print(f\"{name.title()} had to leave dinner.\")\n",
        "\n",
        "name = guests.pop()\n",
        "print(f\"{name.title()} had to leave dinner.\")\n",
        "\n",
        "name = guests.pop()\n",
        "print(f\"{name.title()} had to leave dinner.\")\n",
        "\n",
        "\n",
        "name = guests[0].title()\n",
        "print(f\"{name}, please come to dinner.\")\n",
        "\n",
        "name = guests[1].title()\n",
        "print(f\"{name}, please come to dinner.\")\n",
        "\n",
        "\n",
        "del(guests[0])\n",
        "del(guests[0])\n",
        "\n",
        "print(guests)"
      ],
      "metadata": {
        "colab": {
          "base_uri": "https://localhost:8080/"
        },
        "id": "MdU__JTDYjTx",
        "outputId": "24fe361c-1d01-4479-971e-cc060d6b76ed"
      },
      "execution_count": null,
      "outputs": [
        {
          "output_type": "stream",
          "name": "stdout",
          "text": [
            "Jay-Z, please come to dinner.\n",
            "Joe Walsh, please come to dinner.\n",
            "Seth Macfarlane, please come to dinner.\n",
            "\n",
            "Joe Walsh can't make it to dinner.\n",
            "\n",
            "Jay-Z, please come to dinner.\n",
            "David Attenborough, please come to dinner.\n",
            "Seth Macfarlane, please come to dinner.\n",
            "\n",
            "Found bigger table\n",
            "Greta Thunberg, please come to dinner.\n",
            "Jay-Z, please come to dinner.\n",
            "Max Verstappen, please come to dinner.\n",
            "David Attenborough, please come to dinner.\n",
            "Seth Macfarlane, please come to dinner.\n",
            "\n",
            "Table size shrunk.\n",
            "Keanu Reeves had to leave dinner.\n",
            "Seth Macfarlane had to leave dinner.\n",
            "David Attenborough had to leave dinner.\n",
            "Max Verstappen had to leave dinner.\n",
            "Greta Thunberg, please come to dinner.\n",
            "Jay-Z, please come to dinner.\n",
            "[]\n"
          ]
        }
      ]
    },
    {
      "cell_type": "code",
      "source": [
        "# 3-8: Seeing the World\n",
        "\n",
        "locations = ['Venice', 'Florida', 'Japan', 'Sweden', 'France']\n",
        "\n",
        "print(\"Original order-\")\n",
        "print(locations)\n",
        "\n",
        "print(\"\\nAlphabetical order-\")\n",
        "print(sorted(locations))\n",
        "\n",
        "print(\"\\nOriginal order-\")\n",
        "print(locations)\n",
        "\n",
        "print(\"\\nReverse & alphabetical order-\")\n",
        "print(sorted(locations, reverse=True))\n",
        "\n",
        "print(\"\\nOriginal order-\")\n",
        "print(locations)\n",
        "\n",
        "print(\"\\nReversed order-\")\n",
        "locations.reverse()\n",
        "print(locations)\n",
        "\n",
        "print(\"\\nOriginal order-\")\n",
        "locations.reverse()\n",
        "print(locations)\n",
        "\n",
        "print(\"\\nAlphabetical order-\")\n",
        "locations.sort()\n",
        "print(locations)\n",
        "\n",
        "print(\"\\nReverse & alphabetical order-\")\n",
        "locations.sort(reverse=True)\n",
        "\n",
        "print(locations)"
      ],
      "metadata": {
        "colab": {
          "base_uri": "https://localhost:8080/"
        },
        "id": "-mCoJHnmZAZM",
        "outputId": "42a157c6-c4af-4257-b09d-9f74b8f88773"
      },
      "execution_count": null,
      "outputs": [
        {
          "output_type": "stream",
          "name": "stdout",
          "text": [
            "Original order-\n",
            "['Venice', 'Florida', 'Japan', 'Sweden', 'France']\n",
            "\n",
            "Alphabetical order-\n",
            "['Florida', 'France', 'Japan', 'Sweden', 'Venice']\n",
            "\n",
            "Original order-\n",
            "['Venice', 'Florida', 'Japan', 'Sweden', 'France']\n",
            "\n",
            "Reverse & alphabetical order-\n",
            "['Venice', 'Sweden', 'Japan', 'France', 'Florida']\n",
            "\n",
            "Original order-\n",
            "['Venice', 'Florida', 'Japan', 'Sweden', 'France']\n",
            "\n",
            "Reversed order-\n",
            "['France', 'Sweden', 'Japan', 'Florida', 'Venice']\n",
            "\n",
            "Original order-\n",
            "['Venice', 'Florida', 'Japan', 'Sweden', 'France']\n",
            "\n",
            "Alphabetical order-\n",
            "['Florida', 'France', 'Japan', 'Sweden', 'Venice']\n",
            "\n",
            "Reverse & alphabetical order-\n",
            "['Venice', 'Sweden', 'Japan', 'France', 'Florida']\n"
          ]
        }
      ]
    },
    {
      "cell_type": "code",
      "source": [
        "# 3-9: Dinner Guests\n",
        "\n",
        "guests = ['Jay-Z', 'Joe Walsh', 'Seth Macfarlane']\n",
        "\n",
        "name = guests[0].title()\n",
        "print(f\"{name}, please come to dinner.\")\n",
        "\n",
        "name = guests[1].title()\n",
        "print(f\"{name}, please come to dinner.\")\n",
        "\n",
        "name = guests[2].title()\n",
        "print(f\"{name}, please come to dinner.\")\n",
        "\n",
        "print(f\"Invited {len(guests)} people to dinner.\")"
      ],
      "metadata": {
        "colab": {
          "base_uri": "https://localhost:8080/"
        },
        "id": "EvCc19r7ZtBw",
        "outputId": "2e9f575b-4c28-4d9f-92c4-23a785a16e34"
      },
      "execution_count": null,
      "outputs": [
        {
          "output_type": "stream",
          "name": "stdout",
          "text": [
            "Jay-Z, please come to dinner.\n",
            "Joe Walsh, please come to dinner.\n",
            "Seth Macfarlane, please come to dinner.\n",
            "Invited 3 people to dinner.\n"
          ]
        }
      ]
    },
    {
      "cell_type": "code",
      "source": [
        "# 3-10: Every Function\n",
        "\n",
        "vehicles = ['Toyota', 'Honda','Chrysler','Buick','Audi','Mercedes','Chevrolet']\n",
        "\n",
        "print(\"Original order-\")\n",
        "print(vehicles)\n",
        "\n",
        "print(\"\\nAlphabetical order-\")\n",
        "print(sorted(vehicles))\n",
        "\n",
        "print(\"\\nReverse & alphabetical order-\")\n",
        "print(sorted(vehicles, reverse=True))\n",
        "\n",
        "vehicles.remove(\"Chevrolet\")\n",
        "vehicles.append(\"Dodge\")\n",
        "\n",
        "print(\"\\nRemoved Chevrolet and added Dodge\\n\")\n",
        "\n",
        "vehicles.sort()\n",
        "\n",
        "print(\"Sorted order-\")\n",
        "print(vehicles)\n",
        "\n",
        "print(f\"Total number of vehicle manufacturers: {len(vehicles)}\")\n",
        "\n",
        "print(vehicles[0])\n",
        "vehicle = vehicles.pop()\n",
        "print(vehicle)\n",
        "\n",
        "vehicles.insert(0,\"Pontiac\")\n",
        "\n",
        "print(vehicles)\n",
        "\n",
        "del(vehicles[0])\n",
        "\n",
        "print(vehicles)\n",
        "\n",
        "del(vehicles[0])\n",
        "\n",
        "print(vehicles)\n",
        "\n",
        "del(vehicles[0])\n",
        "\n",
        "print(vehicles)\n",
        "\n",
        "del(vehicles[0])\n",
        "\n",
        "print(vehicles)\n",
        "\n",
        "del(vehicles[0])\n",
        "\n",
        "print(vehicles)\n",
        "\n",
        "del(vehicles[0])\n",
        "\n",
        "print(vehicles)\n",
        "\n",
        "del(vehicles[0])\n",
        "\n",
        "print()\n"
      ],
      "metadata": {
        "colab": {
          "base_uri": "https://localhost:8080/"
        },
        "id": "uhe4q_6OaCSb",
        "outputId": "c3dbb448-b564-422b-9d41-b9349416a27b"
      },
      "execution_count": null,
      "outputs": [
        {
          "output_type": "stream",
          "name": "stdout",
          "text": [
            "Original order-\n",
            "['Toyota', 'Honda', 'Chrysler', 'Buick', 'Audi', 'Mercedes', 'Chevrolet']\n",
            "\n",
            "Alphabetical order-\n",
            "['Audi', 'Buick', 'Chevrolet', 'Chrysler', 'Honda', 'Mercedes', 'Toyota']\n",
            "\n",
            "Reverse & alphabetical order-\n",
            "['Toyota', 'Mercedes', 'Honda', 'Chrysler', 'Chevrolet', 'Buick', 'Audi']\n",
            "\n",
            "Removed Chevrolet and added Dodge\n",
            "\n",
            "Sorted order-\n",
            "['Audi', 'Buick', 'Chrysler', 'Dodge', 'Honda', 'Mercedes', 'Toyota']\n",
            "Total number of vehicle manufacturers: 7\n",
            "Audi\n",
            "Toyota\n",
            "['Pontiac', 'Audi', 'Buick', 'Chrysler', 'Dodge', 'Honda', 'Mercedes']\n",
            "['Audi', 'Buick', 'Chrysler', 'Dodge', 'Honda', 'Mercedes']\n",
            "['Buick', 'Chrysler', 'Dodge', 'Honda', 'Mercedes']\n",
            "['Chrysler', 'Dodge', 'Honda', 'Mercedes']\n",
            "['Dodge', 'Honda', 'Mercedes']\n",
            "['Honda', 'Mercedes']\n",
            "['Mercedes']\n",
            "\n"
          ]
        }
      ]
    },
    {
      "cell_type": "code",
      "source": [
        "# 3-11: Intentional Error\n",
        "\n",
        "names = ['Tom', 'Mike', 'Dan']\n",
        "\n",
        "print(names[0])\n",
        "print(names[1])\n",
        "print(names[3])"
      ],
      "metadata": {
        "id": "LEpAgeCxS-eM",
        "outputId": "fa071e33-a392-43e6-b1fc-742269917a8e",
        "colab": {
          "base_uri": "https://localhost:8080/",
          "height": 211
        }
      },
      "execution_count": 1,
      "outputs": [
        {
          "output_type": "stream",
          "name": "stdout",
          "text": [
            "Tom\n",
            "Mike\n"
          ]
        },
        {
          "output_type": "error",
          "ename": "IndexError",
          "evalue": "list index out of range",
          "traceback": [
            "\u001b[0;31m---------------------------------------------------------------------------\u001b[0m",
            "\u001b[0;31mIndexError\u001b[0m                                Traceback (most recent call last)",
            "\u001b[0;32m<ipython-input-1-4390718b6780>\u001b[0m in \u001b[0;36m<cell line: 7>\u001b[0;34m()\u001b[0m\n\u001b[1;32m      5\u001b[0m \u001b[0mprint\u001b[0m\u001b[0;34m(\u001b[0m\u001b[0mnames\u001b[0m\u001b[0;34m[\u001b[0m\u001b[0;36m0\u001b[0m\u001b[0;34m]\u001b[0m\u001b[0;34m)\u001b[0m\u001b[0;34m\u001b[0m\u001b[0;34m\u001b[0m\u001b[0m\n\u001b[1;32m      6\u001b[0m \u001b[0mprint\u001b[0m\u001b[0;34m(\u001b[0m\u001b[0mnames\u001b[0m\u001b[0;34m[\u001b[0m\u001b[0;36m1\u001b[0m\u001b[0;34m]\u001b[0m\u001b[0;34m)\u001b[0m\u001b[0;34m\u001b[0m\u001b[0;34m\u001b[0m\u001b[0m\n\u001b[0;32m----> 7\u001b[0;31m \u001b[0mprint\u001b[0m\u001b[0;34m(\u001b[0m\u001b[0mnames\u001b[0m\u001b[0;34m[\u001b[0m\u001b[0;36m3\u001b[0m\u001b[0;34m]\u001b[0m\u001b[0;34m)\u001b[0m\u001b[0;34m\u001b[0m\u001b[0;34m\u001b[0m\u001b[0m\n\u001b[0m",
            "\u001b[0;31mIndexError\u001b[0m: list index out of range"
          ]
        }
      ]
    }
  ]
}