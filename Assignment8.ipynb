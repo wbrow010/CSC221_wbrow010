{
  "nbformat": 4,
  "nbformat_minor": 0,
  "metadata": {
    "colab": {
      "provenance": [],
      "authorship_tag": "ABX9TyPrE0iNcMGbRKw8HdJ+zEEN",
      "include_colab_link": true
    },
    "kernelspec": {
      "name": "python3",
      "display_name": "Python 3"
    },
    "language_info": {
      "name": "python"
    }
  },
  "cells": [
    {
      "cell_type": "markdown",
      "metadata": {
        "id": "view-in-github",
        "colab_type": "text"
      },
      "source": [
        "<a href=\"https://colab.research.google.com/github/wbrow010/CSC221_wbrow010/blob/main/Assignment8.ipynb\" target=\"_parent\"><img src=\"https://colab.research.google.com/assets/colab-badge.svg\" alt=\"Open In Colab\"/></a>"
      ]
    },
    {
      "cell_type": "code",
      "execution_count": 1,
      "metadata": {
        "colab": {
          "base_uri": "https://localhost:8080/"
        },
        "id": "kK4uDIWQL87R",
        "outputId": "ce0ff12a-4f53-4cbb-fe71-16f157525307"
      },
      "outputs": [
        {
          "output_type": "stream",
          "name": "stdout",
          "text": [
            "One of my favorite books is The Great Gatsby.\n"
          ]
        }
      ],
      "source": [
        "# 8-2: Favorite Book\n",
        "\n",
        "def favorite_book(title):\n",
        "    print(f\"One of my favorite books is {title}.\")\n",
        "\n",
        "favorite_book('The Great Gatsby')"
      ]
    },
    {
      "cell_type": "code",
      "source": [
        "# 8-3: T-Shirt\n",
        "\n",
        "def make_shirt(size, message):\n",
        "  print(f\"\\nThe {size} sized t-shirt has the message \\\"{message}\\\" on it.\")\n",
        "\n",
        "make_shirt('small', 'Python')\n",
        "make_shirt(message = \"Keywords\", size = 'medium')"
      ],
      "metadata": {
        "colab": {
          "base_uri": "https://localhost:8080/"
        },
        "id": "MJvabhXQMXUw",
        "outputId": "2548440c-0685-4cb6-e091-7d48ccdb38a7"
      },
      "execution_count": 4,
      "outputs": [
        {
          "output_type": "stream",
          "name": "stdout",
          "text": [
            "\n",
            "The small sized t-shirt has the message \"Python\" on it.\n",
            "\n",
            "The medium sized t-shirt has the message \"Keywords\" on it.\n"
          ]
        }
      ]
    },
    {
      "cell_type": "code",
      "source": [
        "# 8-4: Large Shirts\n",
        "\n",
        "def make_shirt(size = 'large', message = 'I love Python!'):\n",
        "  print(f\"\\nThe {size} sized t-shirt has the message \\\"{message}\\\" on it.\")\n",
        "\n",
        "make_shirt()\n",
        "make_shirt(size='small')\n",
        "make_shirt('medium', 'I made this shirt.')"
      ],
      "metadata": {
        "colab": {
          "base_uri": "https://localhost:8080/"
        },
        "id": "l8M_fLedMt1M",
        "outputId": "b9d87cba-e55d-4592-cd08-2d38f0cc0c7c"
      },
      "execution_count": 5,
      "outputs": [
        {
          "output_type": "stream",
          "name": "stdout",
          "text": [
            "\n",
            "The large sized t-shirt has the message \"I love Python!\" on it.\n",
            "\n",
            "The small sized t-shirt has the message \"I love Python!\" on it.\n",
            "\n",
            "The medium sized t-shirt has the message \"I made this shirt.\" on it.\n"
          ]
        }
      ]
    },
    {
      "cell_type": "code",
      "source": [
        "# func8\n",
        "\n",
        "def func8(a, b, c = 42):\n",
        "\n",
        "  sum_result = a + b + c\n",
        "  product_result = a * b * c\n",
        "\n",
        "  sorted_numbers = sorted([a, b, c])\n",
        "\n",
        "  return sum_result, product_result, sorted_numbers\n",
        "\n",
        "\n",
        "# Testing\n",
        "\n",
        "result = func8(2, 5)\n",
        "\n",
        "print(\"Sum:\", result[0])\n",
        "print(\"Product:\", result[1])\n",
        "print(\"Sorted Numbers:\", result[2])\n",
        "\n",
        "\n",
        "result = func8(2, 5, 3)\n",
        "\n",
        "print(\"Sum:\", result[0])\n",
        "print(\"Product:\", result[1])\n",
        "print(\"Sorted Numbers:\", result[2])"
      ],
      "metadata": {
        "colab": {
          "base_uri": "https://localhost:8080/"
        },
        "id": "-4uwv2S6NUMe",
        "outputId": "478a19bf-30c6-42bc-8c30-c181414e5ee2"
      },
      "execution_count": 6,
      "outputs": [
        {
          "output_type": "stream",
          "name": "stdout",
          "text": [
            "Sum: 49\n",
            "Product: 420\n",
            "Sorted Numbers: [2, 5, 42]\n",
            "Sum: 10\n",
            "Product: 30\n",
            "Sorted Numbers: [2, 3, 5]\n"
          ]
        }
      ]
    }
  ]
}