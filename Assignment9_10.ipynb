{
  "nbformat": 4,
  "nbformat_minor": 0,
  "metadata": {
    "colab": {
      "provenance": [],
      "authorship_tag": "ABX9TyPe/Re/VDHpkxKtJQF7NnEu",
      "include_colab_link": true
    },
    "kernelspec": {
      "name": "python3",
      "display_name": "Python 3"
    },
    "language_info": {
      "name": "python"
    }
  },
  "cells": [
    {
      "cell_type": "markdown",
      "metadata": {
        "id": "view-in-github",
        "colab_type": "text"
      },
      "source": [
        "<a href=\"https://colab.research.google.com/github/wbrow010/CSC221_wbrow010/blob/main/Assignment9_10.ipynb\" target=\"_parent\"><img src=\"https://colab.research.google.com/assets/colab-badge.svg\" alt=\"Open In Colab\"/></a>"
      ]
    },
    {
      "cell_type": "markdown",
      "source": [
        "Turns a name into a list of adjectives."
      ],
      "metadata": {
        "id": "TzHcbyN4QqZX"
      }
    },
    {
      "cell_type": "code",
      "execution_count": 169,
      "metadata": {
        "colab": {
          "base_uri": "https://localhost:8080/"
        },
        "id": "FJ99wP3kdP8q",
        "outputId": "13599dba-a394-424b-e40e-33586b7a5406"
      },
      "outputs": [
        {
          "output_type": "stream",
          "name": "stdout",
          "text": [
            "Overwriting names.py\n"
          ]
        }
      ],
      "source": [
        "%%file names.py\n",
        "\n",
        "def print_name_as_adjectives(name):\n",
        "    adjectives = {\n",
        "        'A': 'Affectionate',\n",
        "        'B': 'Brave',\n",
        "        'C': 'Creative',\n",
        "        'D': 'Dynamic',\n",
        "        'E': 'Empathetic',\n",
        "        'F': 'Friendly',\n",
        "        'G': 'Generous',\n",
        "        'H': 'Happy',\n",
        "        'I': 'Intelligent',\n",
        "        'J': 'Joyful',\n",
        "        'K': 'Kind',\n",
        "        'L': 'Loving',\n",
        "        'M': 'Motivated',\n",
        "        'N': 'Nurturing',\n",
        "        'O': 'Optimistic',\n",
        "        'P': 'Passionate',\n",
        "        'Q': 'Quirky',\n",
        "        'R': 'Resilient',\n",
        "        'S': 'Supportive',\n",
        "        'T': 'Thoughtful',\n",
        "        'U': 'Understanding',\n",
        "        'V': 'Vibrant',\n",
        "        'W': 'Wise',\n",
        "        'X': 'Xenial',\n",
        "        'Y': 'Youthful',\n",
        "        'Z': 'Zealous'\n",
        "    }\n",
        "\n",
        "\n",
        "    result = \"\"\n",
        "\n",
        "    #convert it to uppercase\n",
        "    name = name.upper()\n",
        "\n",
        "    #write all the adjectives with the letter\n",
        "    for letter in name:\n",
        "      if letter in adjectives:\n",
        "        result += f\"\\n{letter} - {adjectives[letter]}\"\n",
        "\n",
        "    return result + \"\\n\""
      ]
    },
    {
      "cell_type": "code",
      "source": [
        "import names\n",
        "\n",
        "print(names.print_name_as_adjectives(\"Jack\"))\n",
        "print(names.print_name_as_adjectives(\"Nash\"))\n",
        "print(names.print_name_as_adjectives(\"Riley\"))"
      ],
      "metadata": {
        "colab": {
          "base_uri": "https://localhost:8080/"
        },
        "id": "lU3Xz5KbQ6GF",
        "outputId": "f85f31f9-1f35-4acf-fdd6-73baa9f56cc5"
      },
      "execution_count": null,
      "outputs": [
        {
          "output_type": "stream",
          "name": "stdout",
          "text": [
            "\n",
            "J - Joyful\n",
            "A - Affectionate\n",
            "C - Creative\n",
            "K - Kind\n",
            "\n",
            "\n",
            "N - Nurturing\n",
            "A - Affectionate\n",
            "S - Supportive\n",
            "H - Happy\n",
            "\n",
            "\n",
            "R - Resilient\n",
            "I - Intelligent\n",
            "L - Loving\n",
            "E - Empathetic\n",
            "Y - Youthful\n",
            "\n"
          ]
        }
      ]
    },
    {
      "cell_type": "markdown",
      "source": [
        "Multiplies a variable amount of numbers"
      ],
      "metadata": {
        "id": "uFLyc9RNRkn2"
      }
    },
    {
      "cell_type": "code",
      "source": [
        "%%file multiply.py\n",
        "\n",
        "def multiply_numbers(*args):\n",
        "\n",
        "  product = 1\n",
        "\n",
        "  #multiply all numbers to resulting product\n",
        "  for number in args:\n",
        "    product *= number\n",
        "\n",
        "  return product\n",
        "\n",
        "\n",
        "\n",
        "print(f\"The product of 5, 7 and 8 is {multiply_numbers(5,7,8)}\")\n",
        "print(f\"The product of 2, 55 and -3 is {multiply_numbers(2,55,-3)}\")"
      ],
      "metadata": {
        "colab": {
          "base_uri": "https://localhost:8080/"
        },
        "id": "r5OKTMmxfTm6",
        "outputId": "c18cdb6d-b1d5-4552-ec22-1bb4aad0ec07"
      },
      "execution_count": null,
      "outputs": [
        {
          "output_type": "stream",
          "name": "stdout",
          "text": [
            "Writing multiply.py\n"
          ]
        }
      ]
    },
    {
      "cell_type": "code",
      "source": [
        "import multiply\n",
        "\n",
        "\n",
        "assert multiply.multiply_numbers(5,7,8)     == 5*7*8, \"Didn't Work.\"\n",
        "assert multiply.multiply_numbers(2,55,-3)   == 2*55*-3, \"Didn't Work.\"\n",
        "assert multiply.multiply_numbers(8,1,-3,-2) == 8*1*-3*-2, \"Didn't Work.\""
      ],
      "metadata": {
        "id": "yGkUN3pvRw1H"
      },
      "execution_count": 172,
      "outputs": []
    },
    {
      "cell_type": "markdown",
      "source": [
        "Sorts a list of numbers by their distance to a target number."
      ],
      "metadata": {
        "id": "pcXYZhfNSBX-"
      }
    },
    {
      "cell_type": "code",
      "source": [
        "%%file distance.py\n",
        "\n",
        "def sort_by_distance(numbers, target_number):\n",
        "\n",
        "  #the abs function works like distance in 1 dimension so its used here\n",
        "  sorted_numbers = sorted(numbers, key = lambda x: abs(x - target_number))\n",
        "\n",
        "  return sorted_numbers\n",
        "\n",
        "numbers = [3,7,1,9,2]\n",
        "target_number = 5\n",
        "sorted_by_distance = sort_by_distance(numbers, target_number)\n",
        "print(f\"numbers sorted by distance to {target_number}: {sorted_by_distance}\")"
      ],
      "metadata": {
        "colab": {
          "base_uri": "https://localhost:8080/"
        },
        "id": "6NnPOAB1f37g",
        "outputId": "1efc90c1-2123-469c-9058-0383076461d8"
      },
      "execution_count": null,
      "outputs": [
        {
          "output_type": "stream",
          "name": "stdout",
          "text": [
            "Overwriting distance.py\n"
          ]
        }
      ]
    },
    {
      "cell_type": "code",
      "source": [
        "import distance\n",
        "\n",
        "numbers = [3,7,1,9,2]\n",
        "\n",
        "assert distance.sort_by_distance(numbers, 5) == [3, 7, 2, 1, 9], \"Didn't work.\"\n",
        "\n",
        "assert distance.sort_by_distance(numbers, 8) == [7, 9, 3, 2, 1], \"Didn't work.\""
      ],
      "metadata": {
        "id": "hYdU1-LySLQP"
      },
      "execution_count": 173,
      "outputs": []
    },
    {
      "cell_type": "markdown",
      "source": [
        "returns the key value pairs in a dictionary"
      ],
      "metadata": {
        "id": "NNQKgYAVSi4a"
      }
    },
    {
      "cell_type": "code",
      "source": [
        "%%file dict.py\n",
        "\n",
        "def dictionary_pairs(dictionary):\n",
        "\n",
        "  result_string = \"\"\n",
        "\n",
        "  for key,value in dictionary.items():\n",
        "    result_string += f\"\\nKey: {key}, Value: {value}\"\n",
        "\n",
        "  return result_string"
      ],
      "metadata": {
        "colab": {
          "base_uri": "https://localhost:8080/"
        },
        "id": "6nwl8gouhFdv",
        "outputId": "381aebe7-635e-4b4b-a900-76e372040662"
      },
      "execution_count": null,
      "outputs": [
        {
          "output_type": "stream",
          "name": "stdout",
          "text": [
            "Writing dict.py\n"
          ]
        }
      ]
    },
    {
      "cell_type": "code",
      "source": [
        "import dict\n",
        "\n",
        "print(dictionary_pairs({'a': 1, 'b': 2, 'c': 3}))\n",
        "\n",
        "print(dictionary_pairs({'red': 25, 'green': 125, 'blue': 365}))"
      ],
      "metadata": {
        "colab": {
          "base_uri": "https://localhost:8080/"
        },
        "id": "3_ADMjbSSo06",
        "outputId": "870c2fa9-1092-4a16-b0f7-631c060caacb"
      },
      "execution_count": null,
      "outputs": [
        {
          "output_type": "stream",
          "name": "stdout",
          "text": [
            "\n",
            "Key: a, Value: 1\n",
            "Key: b, Value: 2\n",
            "Key: c, Value: 3\n",
            "\n",
            "Key: red, Value: 25\n",
            "Key: green, Value: 125\n",
            "Key: blue, Value: 365\n"
          ]
        }
      ]
    },
    {
      "cell_type": "markdown",
      "source": [
        "Guessing game AI, randomly guesses until the answer is correct. It's only clues are if the guess is too high or too low. Returns true if won and false if lost"
      ],
      "metadata": {
        "id": "5EnLAIylS6zm"
      }
    },
    {
      "cell_type": "code",
      "source": [
        "%%file guessing.py\n",
        "\n",
        "import random\n",
        "\n",
        "def guessing_game_ai(number, tries):\n",
        "\n",
        "  won_game = False\n",
        "\n",
        "  known_maximum = 1000\n",
        "  known_minimum = 0\n",
        "\n",
        "  while (not won_game) and (tries > 0):\n",
        "\n",
        "    #have the ai guess a number\n",
        "    guessed_number = random.randint(known_minimum,known_maximum)\n",
        "    print(f\"\\nMy guess is... {guessed_number}.\")\n",
        "\n",
        "    if guessed_number > number:\n",
        "      print(f\"I was incorrect, {guessed_number} was too high!\")\n",
        "      known_maximum = guessed_number - 1\n",
        "      tries -= 1\n",
        "    elif guessed_number < number:\n",
        "      print(f\"I was incorrect, {guessed_number} was too low!\")\n",
        "      known_minimum = guessed_number + 1\n",
        "      tries -=1\n",
        "    else:\n",
        "      print(\"I was correct!\")\n",
        "      won_game = True\n",
        "      return True"
      ],
      "metadata": {
        "colab": {
          "base_uri": "https://localhost:8080/"
        },
        "id": "8Pi1kE7KiOz_",
        "outputId": "994da71c-c8bb-46ab-a475-7f9d5b538aae"
      },
      "execution_count": null,
      "outputs": [
        {
          "output_type": "stream",
          "name": "stdout",
          "text": [
            "Writing guessing.py\n"
          ]
        }
      ]
    },
    {
      "cell_type": "code",
      "source": [
        "import guessing\n",
        "\n",
        "while True:\n",
        "  try:\n",
        "    number = int(input(\"Enter a number from 0-1000 for the AI to guess: \"))\n",
        "    if 0 <= number <= 1000:\n",
        "      break\n",
        "    else:\n",
        "      print(\"Number wasn't between 0 and 1000.\")\n",
        "  except ValueError:\n",
        "    print(\"Invalid input. Please enter a valid number.\")\n",
        "\n",
        "while True:\n",
        "  try:\n",
        "    tries = int(input(\"Enter the amount of tries the AI should get: \"))\n",
        "    break\n",
        "  except ValueError:\n",
        "    print(\"Invalid input. Please enter a valid number.\")\n",
        "\n",
        "game = guessing.guessing_game_ai(number,tries)\n",
        "\n",
        "if game:\n",
        "  print(\"AI has won!\")\n",
        "else:\n",
        "  print(\"AI has lost!\")"
      ],
      "metadata": {
        "id": "iHVpnHPzTFU4"
      },
      "execution_count": null,
      "outputs": []
    },
    {
      "cell_type": "markdown",
      "source": [
        "function that takes a list of numbers and returns the average, minimum, and maximum values"
      ],
      "metadata": {
        "id": "qfjNwlkhTJmV"
      }
    },
    {
      "cell_type": "code",
      "source": [
        "%%file nb.py\n",
        "\n",
        "def process_numbers(numbers):\n",
        "\n",
        "  #incase the list is empty\n",
        "  if len(numbers) == 0:\n",
        "    return None, None, None\n",
        "\n",
        "  average = sum(numbers) / len(numbers)\n",
        "  maximum = max(numbers)\n",
        "  minimum = min(numbers)\n",
        "\n",
        "  return average, maximum, minimum"
      ],
      "metadata": {
        "colab": {
          "base_uri": "https://localhost:8080/"
        },
        "id": "VDKqNIpPlBTj",
        "outputId": "9cb325ae-0b2b-4549-b633-ff6a32967881"
      },
      "execution_count": null,
      "outputs": [
        {
          "output_type": "stream",
          "name": "stdout",
          "text": [
            "Overwriting nb.py\n"
          ]
        }
      ]
    },
    {
      "cell_type": "code",
      "source": [
        "import nb\n",
        "\n",
        "numbers = [5, 10, 15, 20, 25]\n",
        "average, maximum, minimum = nb.process_numbers(numbers)\n",
        "\n",
        "assert average == 15, \"Average incorrect\"\n",
        "assert maximum == 25, \"Maximum incorrect\"\n",
        "assert minimum == 5, \"Minimum incorrect\"\n",
        "\n",
        "\n",
        "numbers = [8, 36, 12, 92, 55]\n",
        "average, maximum, minimum = nb.process_numbers(numbers)\n",
        "\n",
        "assert average == 40.6, \"Average incorrect\"\n",
        "assert maximum == 92, \"Maximum incorrect\"\n",
        "assert minimum == 8, \"Minimum incorrect\""
      ],
      "metadata": {
        "id": "eOY9nZUITRm7"
      },
      "execution_count": 174,
      "outputs": []
    },
    {
      "cell_type": "markdown",
      "source": [
        "Approximaing PI using division\n",
        "\n",
        "Very pointless considering it uses PI to approximate itself, but still interesting to find a fraction that can best approximate pi."
      ],
      "metadata": {
        "id": "vWGzlBOETmi2"
      }
    },
    {
      "cell_type": "code",
      "source": [
        "%%file approx.py\n",
        "\n",
        "import math\n",
        "\n",
        "#this function just makes it easier to approximate\n",
        "def distance_to_pi(number):\n",
        "  return abs(number - math.pi)\n",
        "\n",
        "\n",
        "def approximate_pi(precision):\n",
        "\n",
        "  closest_approximation = \"N/A\"\n",
        "  closest_approximation_distance = 9999\n",
        "  closest_approximation_value = 0\n",
        "\n",
        "  for x in range(precision):\n",
        "    numerator = x + 1\n",
        "    denominator = 1\n",
        "\n",
        "    closest_found = False\n",
        "    closest = distance_to_pi(numerator / denominator)\n",
        "\n",
        "    while not closest_found:\n",
        "      denominator += 1\n",
        "\n",
        "      if distance_to_pi(numerator / denominator) < closest:  # found a closer number\n",
        "        closest = distance_to_pi(numerator / denominator)\n",
        "      else:\n",
        "        denominator -= 1\n",
        "        closest_found = True\n",
        "\n",
        "        if closest < closest_approximation_distance:\n",
        "          closest_approximation_distance = closest\n",
        "          closest_approximation = f\"{numerator}/{denominator}\"\n",
        "          closest_approximation_value = numerator / denominator\n",
        "\n",
        "  print(f\"The closest approximation found was {closest_approximation}\")\n",
        "  return closest_approximation_value"
      ],
      "metadata": {
        "colab": {
          "base_uri": "https://localhost:8080/"
        },
        "id": "oMNN29qvl8e0",
        "outputId": "a4ed1921-abc9-4ebb-bb87-1d66ecc2c110"
      },
      "execution_count": 121,
      "outputs": [
        {
          "output_type": "stream",
          "name": "stdout",
          "text": [
            "Writing approx.py\n"
          ]
        }
      ]
    },
    {
      "cell_type": "code",
      "source": [
        "import approx\n",
        "\n",
        "print(\"Approximating pi to 100 numerators...\")\n",
        "approximation = approx.approximate_pi(100)\n",
        "\n",
        "print(\"\\nApproximating pi to 1000 numerators...\")\n",
        "approximation = approx.approximate_pi(1000)\n",
        "\n",
        "print(\"\\nApproximating pi to 10000 numerators...\")\n",
        "approximation = approx.approximate_pi(10000)"
      ],
      "metadata": {
        "colab": {
          "base_uri": "https://localhost:8080/"
        },
        "id": "Z-waPp7tZhPM",
        "outputId": "be7ed3d9-4270-4aa1-e195-b59055943f31"
      },
      "execution_count": 175,
      "outputs": [
        {
          "output_type": "stream",
          "name": "stdout",
          "text": [
            "Approximating pi to 100 numerators...\n",
            "The closest approximation found was 22/7\n",
            "\n",
            "Approximating pi to 1000 numerators...\n",
            "The closest approximation found was 355/113\n",
            "\n",
            "Approximating pi to 10000 numerators...\n",
            "The closest approximation found was 355/113\n"
          ]
        }
      ]
    },
    {
      "cell_type": "markdown",
      "source": [
        "Collision detection for lines"
      ],
      "metadata": {
        "id": "pomcMZ7OdBhT"
      }
    },
    {
      "cell_type": "code",
      "source": [
        "%%file linecollision.py\n",
        "\n",
        "def line_to_line_collision(x1,y1, x2,y2,   x3,y3, x4,y4):\n",
        "\n",
        "  #distance to the intersection point\n",
        "  uA = ((x4-x3) * (y1-y3) - (y4-y3) * (x1-x3)) / ((y4-y3) * (x2-x1) - (x4-x3) * (y2-y1))\n",
        "  uB = ((x2-x1) * (y1-y3) - (y2-y1) * (x1-x3)) / ((y4-y3) * (x2-x1) - (x4-x3) * (y2-y1))\n",
        "\n",
        "  #if uA and uB are between 0 - 1, the lines are colliding\n",
        "  if (uA >= 0 and uA <= 1 and uB >= 0 and uB <= 1):\n",
        "\n",
        "    intersectionX = x1 + (uA * (x2 - x1))\n",
        "    intersectionY = y1 + (uA * (y2 - y1))\n",
        "\n",
        "    return True, intersectionX, intersectionY\n",
        "\n",
        "  return False, 0, 0"
      ],
      "metadata": {
        "colab": {
          "base_uri": "https://localhost:8080/"
        },
        "id": "YvKKT4FGaImS",
        "outputId": "c95b1b0d-60d2-463f-84e8-20c90705e7ca"
      },
      "execution_count": 141,
      "outputs": [
        {
          "output_type": "stream",
          "name": "stdout",
          "text": [
            "Writing linecollision.py\n"
          ]
        }
      ]
    },
    {
      "cell_type": "code",
      "source": [
        "import linecollision\n",
        "\n",
        "coll, x, y = linecollision.line_to_line_collision(1,5,8,-2, 3,-1,5,5)\n",
        "\n",
        "assert coll == True\n",
        "print(f\"Line (1,5)->(8,-2) collides with line (3,-1)->(5,5) at {x}, {y}\")\n",
        "\n",
        "coll, x, y = linecollision.line_to_line_collision(1,5,8,8, 3,-1,7,2)\n",
        "\n",
        "assert coll == False\n",
        "print(f\"Line (1,5)->(8,-2) collides with line (3,-1)->(5,5) at {x}, {y}\")"
      ],
      "metadata": {
        "colab": {
          "base_uri": "https://localhost:8080/"
        },
        "id": "oV51nvB1cSlU",
        "outputId": "b436ec8e-ba21-4ff4-9fee-5a2538548c2e"
      },
      "execution_count": 176,
      "outputs": [
        {
          "output_type": "stream",
          "name": "stdout",
          "text": [
            "Line (1,5)->(8,-2) collides with line (3,-1)->(5,5) at 4.0, 2.0\n",
            "Line (1,5)->(8,-2) collides with line (3,-1)->(5,5) at 0, 0\n"
          ]
        }
      ]
    },
    {
      "cell_type": "markdown",
      "source": [
        "Takes a list of cars with horsepower and price and determines which one offers the best horsepower relative to price"
      ],
      "metadata": {
        "id": "h4UJLXmvhDq1"
      }
    },
    {
      "cell_type": "code",
      "source": [
        "%%file hpvehicle.py\n",
        "\n",
        "def best_horsepower_per_dollar(vehicles):\n",
        "    best_ratio = 0\n",
        "    best_vehicle = None\n",
        "\n",
        "    for vehicle in vehicles:\n",
        "        if vehicle[\"price\"] > 0:  # Avoid division by zero\n",
        "            ratio = vehicle[\"horsepower\"] / vehicle[\"price\"]\n",
        "            if ratio > best_ratio:\n",
        "                best_ratio = ratio\n",
        "                best_vehicle = vehicle\n",
        "\n",
        "    return best_vehicle"
      ],
      "metadata": {
        "colab": {
          "base_uri": "https://localhost:8080/"
        },
        "id": "8wTe51s2fRLu",
        "outputId": "87662500-200e-406e-e6c8-06507b5e7183"
      },
      "execution_count": 152,
      "outputs": [
        {
          "output_type": "stream",
          "name": "stdout",
          "text": [
            "Overwriting hpvehicle.py\n"
          ]
        }
      ]
    },
    {
      "cell_type": "code",
      "source": [
        "import hpvehicle\n",
        "\n",
        "vehicles = [\n",
        "    {\"name\": \"Toyota Camry\", \"price\": 25000, \"horsepower\": 203},\n",
        "    {\"name\": \"Honda Civic\", \"price\": 22000, \"horsepower\": 158},\n",
        "    {\"name\": \"Ford Mustang\", \"price\": 35000, \"horsepower\": 310},\n",
        "    {\"name\": \"Tesla Model 3\", \"price\": 40000, \"horsepower\": 283}\n",
        "]\n",
        "\n",
        "best_vehicle = best_horsepower_per_dollar(vehicles)\n",
        "\n",
        "assert best_vehicle['name'] == \"Ford Mustang\"\n",
        "\n",
        "print(f\"The vehicle with the best horsepower per dollar is: {best_vehicle['name']} with ${best_vehicle['price']/best_vehicle['horsepower']} per HP\")\n",
        "print(f\"Price: {best_vehicle['price']}\")\n",
        "print(f\"Horsepower: {best_vehicle['horsepower']}\")"
      ],
      "metadata": {
        "colab": {
          "base_uri": "https://localhost:8080/"
        },
        "id": "oLjNDMEhfrF3",
        "outputId": "5ecc1545-4036-495d-8c30-e8b92bae489f"
      },
      "execution_count": 180,
      "outputs": [
        {
          "output_type": "stream",
          "name": "stdout",
          "text": [
            "The vehicle with the best horsepower per dollar is: Ford Mustang with $112.90322580645162 per HP\n",
            "Price: 35000\n",
            "Horsepower: 310\n"
          ]
        }
      ]
    },
    {
      "cell_type": "markdown",
      "source": [
        "Calculates monthly interest over x number of months"
      ],
      "metadata": {
        "id": "HqHzDZEvlbMV"
      }
    },
    {
      "cell_type": "code",
      "source": [
        "%%file interest.py\n",
        "\n",
        "def calc_monthly_interest(principal, monthly_interest_rate, months):\n",
        "    total = principal\n",
        "\n",
        "    for month in range(months):\n",
        "        total *= (1 + 0.01*monthly_interest_rate)\n",
        "\n",
        "    return total"
      ],
      "metadata": {
        "colab": {
          "base_uri": "https://localhost:8080/"
        },
        "id": "f5dBENjmhq71",
        "outputId": "9a1adc69-3743-4ce0-b874-63059d1bfabc"
      },
      "execution_count": 166,
      "outputs": [
        {
          "output_type": "stream",
          "name": "stdout",
          "text": [
            "Writing interest.py\n"
          ]
        }
      ]
    },
    {
      "cell_type": "code",
      "source": [
        "import interest\n",
        "\n",
        "principal_amount = 1000  # initial amount of money\n",
        "monthly_rate     = 1  # annual interest rate in percentage\n",
        "num_months       = 12  # number of months\n",
        "\n",
        "total_interest = interest.calc_monthly_interest(principal_amount, monthly_rate, num_months)\n",
        "\n",
        "assert total_interest == 1126.8250301319697, \"Incorrect value calculated\"\n",
        "print(f\"In {num_months} months, ${principal_amount} will become ${total_interest:.2f} on {monthly_rate}% monthly interest rate\")\n",
        "\n",
        "\n",
        "principal_amount = 50000  # initial amount of money\n",
        "monthly_rate     = 2  # annual interest rate in percentage\n",
        "num_months       = 7  # number of months\n",
        "\n",
        "total_interest = interest.calc_monthly_interest(principal_amount, monthly_rate, num_months)\n",
        "assert total_interest == 57434.283382464004 , \"Incorrect value calculated\"\n",
        "print(f\"In {num_months} months, ${principal_amount} will become ${total_interest:.2f} on {monthly_rate}% monthly interest rate\")\n"
      ],
      "metadata": {
        "colab": {
          "base_uri": "https://localhost:8080/"
        },
        "id": "EMqCXoMOhqgK",
        "outputId": "8d06b493-f7bd-476c-b0ec-8504db60b835"
      },
      "execution_count": 184,
      "outputs": [
        {
          "output_type": "stream",
          "name": "stdout",
          "text": [
            "In 12 months, $1000 will become $1126.83 on 1% monthly interest rate\n",
            "In 7 months, $50000 will become $57434.28 on 2% monthly interest rate\n"
          ]
        }
      ]
    }
  ]
}