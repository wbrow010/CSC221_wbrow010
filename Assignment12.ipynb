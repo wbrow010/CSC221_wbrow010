{
  "nbformat": 4,
  "nbformat_minor": 0,
  "metadata": {
    "colab": {
      "provenance": [],
      "authorship_tag": "ABX9TyPYE8/NrxBK98ctpdO5eVjI",
      "include_colab_link": true
    },
    "kernelspec": {
      "name": "python3",
      "display_name": "Python 3"
    },
    "language_info": {
      "name": "python"
    }
  },
  "cells": [
    {
      "cell_type": "markdown",
      "metadata": {
        "id": "view-in-github",
        "colab_type": "text"
      },
      "source": [
        "<a href=\"https://colab.research.google.com/github/wbrow010/CSC221_wbrow010/blob/main/Assignment12.ipynb\" target=\"_parent\"><img src=\"https://colab.research.google.com/assets/colab-badge.svg\" alt=\"Open In Colab\"/></a>"
      ]
    },
    {
      "cell_type": "markdown",
      "source": [
        "US CURRENCY"
      ],
      "metadata": {
        "id": "dxVCr4X9kXgi"
      }
    },
    {
      "cell_type": "code",
      "execution_count": 41,
      "metadata": {
        "colab": {
          "base_uri": "https://localhost:8080/"
        },
        "id": "5SSXL12fgkeC",
        "outputId": "9cffcac8-ef38-4b67-bf2c-6a3bdbb0bda0"
      },
      "outputs": [
        {
          "output_type": "stream",
          "name": "stdout",
          "text": [
            "Writing money4.py\n"
          ]
        }
      ],
      "source": [
        "%%file money4.py\n",
        "\n",
        "class Money:\n",
        "    def __init__(self, value):\n",
        "        self.value = value\n",
        "\n",
        "    def __repr__(self):\n",
        "        return f\"{self.__class__.__name__}({self.value})\"\n",
        "\n",
        "class Bills(Money):\n",
        "    pass\n",
        "\n",
        "class One(Bills):\n",
        "  def __init__(self):\n",
        "    super().__init__(1)\n",
        "\n",
        "  def __repr__(self):\n",
        "    return \"One\"\n",
        "\n",
        "class Five(Bills):\n",
        "  def __init__(self):\n",
        "    super().__init__(5)\n",
        "\n",
        "  def __repr__(self):\n",
        "    return \"Five\"\n",
        "\n",
        "class Ten(Bills):\n",
        "  def __init__(self):\n",
        "    super().__init__(10)\n",
        "\n",
        "  def __repr__(self):\n",
        "    return \"Ten\"\n",
        "\n",
        "class Twenty(Bills):\n",
        "  def __init__(self):\n",
        "    super().__init__(20)\n",
        "\n",
        "  def __repr__(self):\n",
        "    return \"Twenty\"\n",
        "\n",
        "class Coins(Money):\n",
        "    pass\n",
        "\n",
        "class Penny(Coins):\n",
        "  def __init__(self):\n",
        "    super().__init__(0.01)\n",
        "\n",
        "  def __repr__(self):\n",
        "    return \"Penny\"\n",
        "\n",
        "class Nickel(Coins):\n",
        "  def __init__(self):\n",
        "    super().__init__(0.05)\n",
        "\n",
        "  def __repr__(self):\n",
        "    return \"Nickel\"\n",
        "\n",
        "class Dime(Coins):\n",
        "  def __init__(self):\n",
        "    super().__init__(0.10)\n",
        "\n",
        "  def __repr__(self):\n",
        "    return \"Dime\"\n",
        "\n",
        "class Quarter(Coins):\n",
        "  def __init__(self):\n",
        "    super().__init__(0.25)\n",
        "\n",
        "  def __repr__(self):\n",
        "    return \"Quarter\"\n",
        "\n",
        "class Wallet:\n",
        "  def __init__(self):\n",
        "    self.money_list = []\n",
        "\n",
        "  def add_money(self, money):\n",
        "    self.money_list.append(money)\n",
        "\n",
        "  def total_money(self):\n",
        "    return sum(money.value for money in self.money_list)\n",
        "\n",
        "  def print_total_money(self):\n",
        "    print(f\"Wallet total: {self.total_money()}\")\n",
        "\n",
        "  def __repr__(self):\n",
        "    return f\"Wallet: {self.money_list}\""
      ]
    },
    {
      "cell_type": "code",
      "source": [
        "import money4\n",
        "\n",
        "#test\n",
        "\n",
        "wallet = money4.Wallet()\n",
        "wallet.add_money(money4.Twenty())\n",
        "wallet.add_money(money4.One())\n",
        "wallet.add_money(money4.Quarter())\n",
        "\n",
        "print(wallet)\n",
        "wallet.print_total_money()\n",
        "\n",
        "#over $1 in change\n",
        "\n",
        "wallet2 = money4.Wallet();\n",
        "\n",
        "for i in range(5):\n",
        "  wallet2.add_money(money4.Quarter())\n",
        "\n",
        "#All bills and coins\n",
        "\n",
        "print(wallet2)\n",
        "wallet2.print_total_money()\n",
        "\n",
        "wallet3 = money4.Wallet()\n",
        "wallet3.add_money(money4.Penny())\n",
        "wallet3.add_money(money4.Nickel())\n",
        "wallet3.add_money(money4.Dime())\n",
        "wallet3.add_money(money4.Quarter())\n",
        "wallet3.add_money(money4.One())\n",
        "wallet3.add_money(money4.Five())\n",
        "wallet3.add_money(money4.Ten())\n",
        "wallet3.add_money(money4.Twenty())\n",
        "\n",
        "print(wallet3)\n",
        "wallet3.print_total_money()\n",
        "\n",
        "#Empty wallet\n",
        "wallet4 = money4.Wallet()\n",
        "\n",
        "print(wallet4)\n",
        "wallet4.print_total_money()"
      ],
      "metadata": {
        "colab": {
          "base_uri": "https://localhost:8080/"
        },
        "id": "TCt5Ecqmhbsj",
        "outputId": "142f6bb2-5b20-4088-f489-cdd86c633977"
      },
      "execution_count": 43,
      "outputs": [
        {
          "output_type": "stream",
          "name": "stdout",
          "text": [
            "Wallet: [Twenty, One, Quarter]\n",
            "Wallet total: 21.25\n",
            "Wallet: [Quarter, Quarter, Quarter, Quarter, Quarter]\n",
            "Wallet total: 1.25\n",
            "Wallet: [Penny, Nickel, Dime, Quarter, One, Five, Ten, Twenty]\n",
            "Wallet total: 36.41\n",
            "Wallet: []\n",
            "Wallet total: 0\n"
          ]
        }
      ]
    },
    {
      "cell_type": "markdown",
      "source": [
        "Parking Lot Simulator\n",
        "\n",
        "prints the total number of doors and wheels of all combined vehicles in a parking lot"
      ],
      "metadata": {
        "id": "6i6KLWyykcFu"
      }
    },
    {
      "cell_type": "code",
      "source": [
        "class Vehicle():\n",
        "  def __init__(self, wheels, doors):\n",
        "    self.wheels = wheels\n",
        "    self.doors = doors\n",
        "\n",
        "class Bike(Vehicle):\n",
        "  def __init__(self):\n",
        "    super().__init__(2, 0)\n",
        "\n",
        "  def __repr__(self):\n",
        "    return \"Bike\"\n",
        "\n",
        "class Sedan(Vehicle):\n",
        "  def __init__(self):\n",
        "    super().__init__(4, 4)\n",
        "\n",
        "  def __repr__(self):\n",
        "    return \"Sedan\"\n",
        "\n",
        "class Coupe(Vehicle):\n",
        "  def __init__(self):\n",
        "    super().__init__(4, 2)\n",
        "\n",
        "  def __repr__(self):\n",
        "    return \"Coupe\"\n",
        "\n",
        "class SemiTruck(Vehicle):\n",
        "  def __init__(self):\n",
        "    super().__init__(18, 2)\n",
        "\n",
        "  def __repr__(self):\n",
        "    return \"SemiTruck\"\n",
        "\n",
        "class ParkingLot():\n",
        "  def __init__(self):\n",
        "    self.lot_list = []\n",
        "\n",
        "  def add_vehicle(self, vehicle):\n",
        "    self.lot_list.append(vehicle)\n",
        "\n",
        "  def total_doors(self):\n",
        "    return sum(vehicle.doors for vehicle in self.lot_list)\n",
        "\n",
        "  def total_wheels(self):\n",
        "    return sum(vehicle.wheels for vehicle in self.lot_list)\n",
        "\n",
        "  def print_totals(self):\n",
        "    print(f\"Total doors: {self.total_doors()}     Total wheels: {self.total_wheels()}\")\n",
        "\n",
        "  def __repr__(self):\n",
        "    return f\"Parking Lot: {self.lot_list}\"\n",
        "\n",
        "parkingLot = ParkingLot()\n",
        "\n",
        "parkingLot.add_vehicle(Bike())\n",
        "parkingLot.add_vehicle(Sedan())\n",
        "parkingLot.add_vehicle(Coupe())\n",
        "parkingLot.add_vehicle(SemiTruck())\n",
        "\n",
        "print(parkingLot)\n",
        "parkingLot.print_totals()\n",
        "\n",
        "parkingLot2 = ParkingLot()\n",
        "\n",
        "for i in range(7):\n",
        "  parkingLot2.add_vehicle(Bike())\n",
        "\n",
        "print(parkingLot2)\n",
        "parkingLot2.print_totals()\n",
        "\n",
        "parkingLot3 = ParkingLot()\n",
        "\n",
        "for i in range(5):\n",
        "  parkingLot3.add_vehicle(SemiTruck())\n",
        "\n",
        "print(parkingLot3)\n",
        "parkingLot3.print_totals()"
      ],
      "metadata": {
        "colab": {
          "base_uri": "https://localhost:8080/"
        },
        "id": "Te32f3ltkW8Q",
        "outputId": "4229e59a-be3f-4d7c-e580-5c272d65d8c9"
      },
      "execution_count": 45,
      "outputs": [
        {
          "output_type": "stream",
          "name": "stdout",
          "text": [
            "Parking Lot: [Bike, Sedan, Coupe, SemiTruck]\n",
            "Total doors: 8     Total wheels: 28\n",
            "Parking Lot: [Bike, Bike, Bike, Bike, Bike, Bike, Bike]\n",
            "Total doors: 0     Total wheels: 14\n",
            "Parking Lot: [SemiTruck, SemiTruck, SemiTruck, SemiTruck, SemiTruck]\n",
            "Total doors: 10     Total wheels: 90\n"
          ]
        }
      ]
    }
  ]
}