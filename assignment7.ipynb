{
  "nbformat": 4,
  "nbformat_minor": 0,
  "metadata": {
    "colab": {
      "provenance": [],
      "authorship_tag": "ABX9TyOYcpJuDEkLg1hEc+suWg/f",
      "include_colab_link": true
    },
    "kernelspec": {
      "name": "python3",
      "display_name": "Python 3"
    },
    "language_info": {
      "name": "python"
    }
  },
  "cells": [
    {
      "cell_type": "markdown",
      "metadata": {
        "id": "view-in-github",
        "colab_type": "text"
      },
      "source": [
        "<a href=\"https://colab.research.google.com/github/wbrow010/CSC221_wbrow010/blob/main/assignment7.ipynb\" target=\"_parent\"><img src=\"https://colab.research.google.com/assets/colab-badge.svg\" alt=\"Open In Colab\"/></a>"
      ]
    },
    {
      "cell_type": "code",
      "execution_count": null,
      "metadata": {
        "id": "M_bxtcRADNgg"
      },
      "outputs": [],
      "source": [
        "person = {\n",
        "    'first_name': 'Porter',\n",
        "    'last_name': 'Hackett',\n",
        "    'age': 19,\n",
        "    'city': 'Plattsburgh',\n",
        "    }\n",
        "\n",
        "print(person['first_name'])\n",
        "\n",
        "print(person['last_name'])\n",
        "\n",
        "print(person['age'])\n",
        "\n",
        "print(person['city'])"
      ]
    },
    {
      "cell_type": "code",
      "source": [
        "favorite_number = {\n",
        "    'Greg': 12,\n",
        "    'Nash': 264,\n",
        "    'Sam': 73,\n",
        "    'Riley': 88,\n",
        "    'Logan': 5,\n",
        "    }\n",
        "\n",
        "print(f\"Greg's favorite number is {favorite_number['Greg']}.\")\n",
        "print(f\"Nash's favorite number is {favorite_number['Nash']}.\")\n",
        "print(f\"Sam's favorite number is {favorite_number['Sam']}.\")\n",
        "print(f\"Riley's favorite number is {favorite_number['Riley']}.\")\n",
        "print(f\"Logan's favorite number is {favorite_number['Logan']}.\")\n"
      ],
      "metadata": {
        "colab": {
          "base_uri": "https://localhost:8080/"
        },
        "id": "mt3BKwCFD4K_",
        "outputId": "f7723959-580c-4785-a3a1-6806de271380"
      },
      "execution_count": null,
      "outputs": [
        {
          "output_type": "stream",
          "name": "stdout",
          "text": [
            "Greg's favorite number is 12.\n",
            "Nash's favorite number is 2364.\n",
            "Sam's favorite number is 73.\n",
            "Riley's favorite number is 88.\n",
            "Logan's favorite number is 5.\n"
          ]
        }
      ]
    },
    {
      "cell_type": "code",
      "source": [
        "glossary = {\n",
        "    'Conditional': 'Programming language commands for handling decisions.',\n",
        "    'Comment': 'A Programmer-readable explanation or annotation in the source code of a computer program.',\n",
        "    'Variable': 'A value that can change, depending on conditions or on information passed to the program.',\n",
        "    'List': 'A sequence of several variables, grouped together under a single name.',\n",
        "    'Dictionary': \"A collection of items that allows us to store data in key: value pairs.\",\n",
        "    }\n",
        "\n",
        "print(f\"\\n{'Conditional'} - {glossary['Conditional']}\")\n",
        "print(f\"\\n{'Comment'} - {glossary['Comment']}\")\n",
        "print(f\"\\n{'Variable'} - {glossary['Variable']}\")\n",
        "print(f\"\\n{'List'} - {glossary['List']}\")\n",
        "print(f\"\\n{'Dictionary'} - {glossary['Dictionary']}\")\n"
      ],
      "metadata": {
        "colab": {
          "base_uri": "https://localhost:8080/"
        },
        "id": "3k53zDV-FlMs",
        "outputId": "2ad41e81-ed7d-4f86-e9da-359e7cedddf8"
      },
      "execution_count": null,
      "outputs": [
        {
          "output_type": "stream",
          "name": "stdout",
          "text": [
            "\n",
            "Conditional - Programming language commands for handling decisions.\n",
            "\n",
            "Comment - A Programmer-readable explanation or annotation in the source code of a computer program.\n",
            "\n",
            "Variable - A value that can change, depending on conditions or on information passed to the program.\n",
            "\n",
            "List - A sequence of several variables, grouped together under a single name.\n",
            "\n",
            "Dictionary - A collection of items that allows us to store data in key: value pairs.\n"
          ]
        }
      ]
    },
    {
      "cell_type": "code",
      "source": [
        "glossary = {\n",
        "    'Conditional': 'Programming language commands for handling decisions.',\n",
        "    'Comment': 'A Programmer-readable explanation or annotation in the source code of a computer program.',\n",
        "    'Variable': 'A value that can change, depending on conditions or on information passed to the program.',\n",
        "    'List': 'A sequence of several variables, grouped together under a single name.',\n",
        "    'Dictionary': 'A collection of items that allows us to store data in key: value pairs.',\n",
        "    'String': 'A data type used in programming, that is used to represent text rather than numbers.',\n",
        "    'Float': 'A single precision (32 bit) or double precision (64 bit) number.',\n",
        "    'Boolean': 'A logical data type that can have only the values true or false.',\n",
        "    'Loop': 'A programming element that repeat a portion of code a set number of times until the desired process is complete.',\n",
        "    'Key': 'A numerical value used to control cryptographic operations.'\n",
        "    }\n",
        "\n",
        "for term, definition in glossary.items():\n",
        "\n",
        "    print(f\"\\n{term.title()}: {definition}\")"
      ],
      "metadata": {
        "colab": {
          "base_uri": "https://localhost:8080/"
        },
        "id": "C1u7tWsHHKlx",
        "outputId": "6f01a744-69dd-4edc-83d6-6d1c70840957"
      },
      "execution_count": null,
      "outputs": [
        {
          "output_type": "stream",
          "name": "stdout",
          "text": [
            "\n",
            "Conditional: Programming language commands for handling decisions.\n",
            "\n",
            "Comment: A Programmer-readable explanation or annotation in the source code of a computer program.\n",
            "\n",
            "Variable: A value that can change, depending on conditions or on information passed to the program.\n",
            "\n",
            "List: A sequence of several variables, grouped together under a single name.\n",
            "\n",
            "Dictionary: A collection of items that allows us to store data in key: value pairs.\n",
            "\n",
            "String: A data type used in programming, that is used to represent text rather than numbers.\n",
            "\n",
            "Float: A single precision (32 bit) or double precision (64 bit) number.\n",
            "\n",
            "Boolean: A logical data type that can have only the values true or false.\n",
            "\n",
            "Loop: A programming element that repeat a portion of code a set number of times until the desired process is complete.\n",
            "\n",
            "Key: A numerical value used to control cryptographic operations.\n"
          ]
        }
      ]
    },
    {
      "cell_type": "code",
      "source": [
        "cities = {\n",
        "    'New York City': {\n",
        "        'Country': 'USA',\n",
        "        'Population': 8468000,\n",
        "        'Nearby Mountains': 'Adirondack Mountains',\n",
        "        },\n",
        "\n",
        "    'Tokyo': {\n",
        "        'Country': 'Japan',\n",
        "        'Population': 13960000 ,\n",
        "        'Nearby Mountains': 'Mt. Takao',\n",
        "        },\n",
        "\n",
        "    'Dubai': {\n",
        "        'Country': 'United Arab Emirates',\n",
        "        'Population': 3331000,\n",
        "        'Nearby Mountains': 'Hajar Mountains',\n",
        "        }\n",
        "    }\n",
        "\n",
        "for city, info in cities.items():\n",
        "\n",
        "    country = info['Country'].title()\n",
        "    population = info['Population']\n",
        "    mountains = info['Nearby Mountains'].title()\n",
        "\n",
        "    print(f\"\\n{city.title()} is in {country}.\")\n",
        "    print(f\"The population is {population}.\")\n",
        "    print(f\"Nearby mountains include: {mountains}.\")\n"
      ],
      "metadata": {
        "colab": {
          "base_uri": "https://localhost:8080/"
        },
        "id": "EaJsa50nIoXA",
        "outputId": "c44db1d0-d326-4b74-85ee-61dcd38c240f"
      },
      "execution_count": null,
      "outputs": [
        {
          "output_type": "stream",
          "name": "stdout",
          "text": [
            "\n",
            "New York City is in Usa.\n",
            "The population is 8468000.\n",
            "Nearby mountains include: Adirondack Mountains.\n",
            "\n",
            "Tokyo is in Japan.\n",
            "The population is 13960000.\n",
            "Nearby mountains include: Mt. Takao.\n",
            "\n",
            "Dubai is in United Arab Emirates.\n",
            "The population is 3331000.\n",
            "Nearby mountains include: Hajar Mountains.\n"
          ]
        }
      ]
    },
    {
      "cell_type": "code",
      "source": [
        "%%file gradesdictionary.py\n",
        "\n",
        "grades = {\n",
        "  'kevin': 91,\n",
        "  'ayush': 94,\n",
        "  'bob': 97,\n",
        "  'amy': 89,\n",
        "  'ankita': 97,\n",
        "  'ned': 79,\n",
        "  'timmy': 82\n",
        "}\n"
      ],
      "metadata": {
        "colab": {
          "base_uri": "https://localhost:8080/"
        },
        "id": "Cx9KEb8NKq6p",
        "outputId": "c28bf062-f9ef-4d0a-d0d7-640bd453a6f1"
      },
      "execution_count": null,
      "outputs": [
        {
          "output_type": "stream",
          "name": "stdout",
          "text": [
            "Writing gradesdictionary.py\n"
          ]
        }
      ]
    },
    {
      "cell_type": "code",
      "source": [
        "import gradesdictionary\n",
        "\n",
        "\n",
        "print(\"\\nNormal order -----\")\n",
        "for name, grade in gradesdictionary.grades.items():\n",
        "\n",
        "    print(f\"\\n  {name.title()}'s grade is {grade}.\")\n",
        "\n",
        "\n",
        "\n",
        "\n",
        "\n",
        "print(\"\\nAlphabetical order -----\")\n",
        "sorted_names = sorted(gradesdictionary.grades.keys())\n",
        "\n",
        "for name in sorted_names:\n",
        "    grade = gradesdictionary.grades[name]\n",
        "    print(f\"\\n  {name.title()}'s grade is {grade}.\")\n",
        "\n",
        "\n",
        "print(\"\\nHighest to lowest order -----\")\n",
        "#sorts them in high to low order\n",
        "sorted_grades = sorted(gradesdictionary.grades.items(), key=lambda x: x[1], reverse=True)\n",
        "\n",
        "for name, grade in sorted_grades:\n",
        "    print(f\"\\n  {name.title()}'s grade is {grade}.\")"
      ],
      "metadata": {
        "colab": {
          "base_uri": "https://localhost:8080/"
        },
        "id": "rldr4_WdNNqI",
        "outputId": "6d6d9bdb-2b2b-45e5-9155-3d62f987eab0"
      },
      "execution_count": null,
      "outputs": [
        {
          "output_type": "stream",
          "name": "stdout",
          "text": [
            "\n",
            "Normal order -----\n",
            "\n",
            "  Kevin's grade is 91.\n",
            "\n",
            "  Ayush's grade is 94.\n",
            "\n",
            "  Bob's grade is 97.\n",
            "\n",
            "  Amy's grade is 89.\n",
            "\n",
            "  Ankita's grade is 97.\n",
            "\n",
            "  Ned's grade is 79.\n",
            "\n",
            "  Timmy's grade is 82.\n",
            "\n",
            "Alphabetical order -----\n",
            "\n",
            "  Amy's grade is 89.\n",
            "\n",
            "  Ankita's grade is 97.\n",
            "\n",
            "  Ayush's grade is 94.\n",
            "\n",
            "  Bob's grade is 97.\n",
            "\n",
            "  Kevin's grade is 91.\n",
            "\n",
            "  Ned's grade is 79.\n",
            "\n",
            "  Timmy's grade is 82.\n",
            "\n",
            "Highest to lowest order -----\n",
            "\n",
            "  Bob's grade is 97.\n",
            "\n",
            "  Ankita's grade is 97.\n",
            "\n",
            "  Ayush's grade is 94.\n",
            "\n",
            "  Kevin's grade is 91.\n",
            "\n",
            "  Amy's grade is 89.\n",
            "\n",
            "  Timmy's grade is 82.\n",
            "\n",
            "  Ned's grade is 79.\n"
          ]
        }
      ]
    },
    {
      "cell_type": "code",
      "source": [],
      "metadata": {
        "id": "fW-IOCotPIjP"
      },
      "execution_count": null,
      "outputs": []
    }
  ]
}