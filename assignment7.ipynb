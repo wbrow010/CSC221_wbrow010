{
  "nbformat": 4,
  "nbformat_minor": 0,
  "metadata": {
    "colab": {
      "provenance": [],
      "authorship_tag": "ABX9TyMrHmC+he1UQnK7xO+Fo/6b",
      "include_colab_link": true
    },
    "kernelspec": {
      "name": "python3",
      "display_name": "Python 3"
    },
    "language_info": {
      "name": "python"
    }
  },
  "cells": [
    {
      "cell_type": "markdown",
      "metadata": {
        "id": "view-in-github",
        "colab_type": "text"
      },
      "source": [
        "<a href=\"https://colab.research.google.com/github/wbrow010/CSC221_wbrow010/blob/main/assignment7.ipynb\" target=\"_parent\"><img src=\"https://colab.research.google.com/assets/colab-badge.svg\" alt=\"Open In Colab\"/></a>"
      ]
    },
    {
      "cell_type": "code",
      "execution_count": 1,
      "metadata": {
        "id": "M_bxtcRADNgg",
        "colab": {
          "base_uri": "https://localhost:8080/"
        },
        "outputId": "440e163f-fa47-4cb2-8e84-8ff40ab7772f"
      },
      "outputs": [
        {
          "output_type": "stream",
          "name": "stdout",
          "text": [
            "Porter\n",
            "Hackett\n",
            "19\n",
            "Plattsburgh\n"
          ]
        }
      ],
      "source": [
        "# 6-1: Person\n",
        "\n",
        "person = {\n",
        "    'first_name': 'Porter',\n",
        "    'last_name': 'Hackett',\n",
        "    'age': 19,\n",
        "    'city': 'Plattsburgh',\n",
        "    }\n",
        "\n",
        "print(person['first_name'])\n",
        "\n",
        "print(person['last_name'])\n",
        "\n",
        "print(person['age'])\n",
        "\n",
        "print(person['city'])"
      ]
    },
    {
      "cell_type": "code",
      "source": [
        "# 6-2: Favorite Numbers\n",
        "\n",
        "favorite_number = {\n",
        "    'Greg': 12,\n",
        "    'Nash': 264,\n",
        "    'Sam': 73,\n",
        "    'Riley': 88,\n",
        "    'Logan': 5,\n",
        "    }\n",
        "\n",
        "print(f\"Greg's favorite number is {favorite_number['Greg']}.\")\n",
        "print(f\"Nash's favorite number is {favorite_number['Nash']}.\")\n",
        "print(f\"Sam's favorite number is {favorite_number['Sam']}.\")\n",
        "print(f\"Riley's favorite number is {favorite_number['Riley']}.\")\n",
        "print(f\"Logan's favorite number is {favorite_number['Logan']}.\")\n"
      ],
      "metadata": {
        "colab": {
          "base_uri": "https://localhost:8080/"
        },
        "id": "mt3BKwCFD4K_",
        "outputId": "d801464d-8172-4fa8-ea46-649e9baa93fe"
      },
      "execution_count": 2,
      "outputs": [
        {
          "output_type": "stream",
          "name": "stdout",
          "text": [
            "Greg's favorite number is 12.\n",
            "Nash's favorite number is 264.\n",
            "Sam's favorite number is 73.\n",
            "Riley's favorite number is 88.\n",
            "Logan's favorite number is 5.\n"
          ]
        }
      ]
    },
    {
      "cell_type": "code",
      "source": [
        "# 6-3: Glossary\n",
        "\n",
        "glossary = {\n",
        "    'Conditional': 'Programming language commands for handling decisions.',\n",
        "    'Comment': 'A Programmer-readable explanation or annotation in the source code of a computer program.',\n",
        "    'Variable': 'A value that can change, depending on conditions or on information passed to the program.',\n",
        "    'List': 'A sequence of several variables, grouped together under a single name.',\n",
        "    'Dictionary': \"A collection of items that allows us to store data in key: value pairs.\",\n",
        "    }\n",
        "\n",
        "print(f\"\\n{'Conditional'} - {glossary['Conditional']}\")\n",
        "print(f\"\\n{'Comment'} - {glossary['Comment']}\")\n",
        "print(f\"\\n{'Variable'} - {glossary['Variable']}\")\n",
        "print(f\"\\n{'List'} - {glossary['List']}\")\n",
        "print(f\"\\n{'Dictionary'} - {glossary['Dictionary']}\")\n"
      ],
      "metadata": {
        "colab": {
          "base_uri": "https://localhost:8080/"
        },
        "id": "3k53zDV-FlMs",
        "outputId": "fd48b095-e01d-4d9f-c91f-c74465f0aabd"
      },
      "execution_count": 3,
      "outputs": [
        {
          "output_type": "stream",
          "name": "stdout",
          "text": [
            "\n",
            "Conditional - Programming language commands for handling decisions.\n",
            "\n",
            "Comment - A Programmer-readable explanation or annotation in the source code of a computer program.\n",
            "\n",
            "Variable - A value that can change, depending on conditions or on information passed to the program.\n",
            "\n",
            "List - A sequence of several variables, grouped together under a single name.\n",
            "\n",
            "Dictionary - A collection of items that allows us to store data in key: value pairs.\n"
          ]
        }
      ]
    },
    {
      "cell_type": "code",
      "source": [
        "# 6-4: Glossary 2\n",
        "\n",
        "glossary = {\n",
        "    'Conditional': 'Programming language commands for handling decisions.',\n",
        "    'Comment': 'A Programmer-readable explanation or annotation in the source code of a computer program.',\n",
        "    'Variable': 'A value that can change, depending on conditions or on information passed to the program.',\n",
        "    'List': 'A sequence of several variables, grouped together under a single name.',\n",
        "    'Dictionary': 'A collection of items that allows us to store data in key: value pairs.',\n",
        "    'String': 'A data type used in programming, that is used to represent text rather than numbers.',\n",
        "    'Float': 'A single precision (32 bit) or double precision (64 bit) number.',\n",
        "    'Boolean': 'A logical data type that can have only the values true or false.',\n",
        "    'Loop': 'A programming element that repeat a portion of code a set number of times until the desired process is complete.',\n",
        "    'Key': 'A numerical value used to control cryptographic operations.'\n",
        "    }\n",
        "\n",
        "for term, definition in glossary.items():\n",
        "\n",
        "    print(f\"\\n{term.title()}: {definition}\")"
      ],
      "metadata": {
        "colab": {
          "base_uri": "https://localhost:8080/"
        },
        "id": "C1u7tWsHHKlx",
        "outputId": "24193359-d2c5-4b92-e232-0b0814bb1bd7"
      },
      "execution_count": 4,
      "outputs": [
        {
          "output_type": "stream",
          "name": "stdout",
          "text": [
            "\n",
            "Conditional: Programming language commands for handling decisions.\n",
            "\n",
            "Comment: A Programmer-readable explanation or annotation in the source code of a computer program.\n",
            "\n",
            "Variable: A value that can change, depending on conditions or on information passed to the program.\n",
            "\n",
            "List: A sequence of several variables, grouped together under a single name.\n",
            "\n",
            "Dictionary: A collection of items that allows us to store data in key: value pairs.\n",
            "\n",
            "String: A data type used in programming, that is used to represent text rather than numbers.\n",
            "\n",
            "Float: A single precision (32 bit) or double precision (64 bit) number.\n",
            "\n",
            "Boolean: A logical data type that can have only the values true or false.\n",
            "\n",
            "Loop: A programming element that repeat a portion of code a set number of times until the desired process is complete.\n",
            "\n",
            "Key: A numerical value used to control cryptographic operations.\n"
          ]
        }
      ]
    },
    {
      "cell_type": "code",
      "source": [
        "# 6-11: Cities\n",
        "\n",
        "cities = {\n",
        "    'New York City': {\n",
        "        'Country': 'USA',\n",
        "        'Population': 8468000,\n",
        "        'Nearby Mountains': 'Adirondack Mountains',\n",
        "        },\n",
        "\n",
        "    'Tokyo': {\n",
        "        'Country': 'Japan',\n",
        "        'Population': 13960000 ,\n",
        "        'Nearby Mountains': 'Mt. Takao',\n",
        "        },\n",
        "\n",
        "    'Dubai': {\n",
        "        'Country': 'United Arab Emirates',\n",
        "        'Population': 3331000,\n",
        "        'Nearby Mountains': 'Hajar Mountains',\n",
        "        }\n",
        "    }\n",
        "\n",
        "for city, info in cities.items():\n",
        "\n",
        "    country = info['Country'].title()\n",
        "    population = info['Population']\n",
        "    mountains = info['Nearby Mountains'].title()\n",
        "\n",
        "    print(f\"\\n{city.title()} is in {country}.\")\n",
        "    print(f\"The population is {population}.\")\n",
        "    print(f\"Nearby mountains include: {mountains}.\")\n"
      ],
      "metadata": {
        "colab": {
          "base_uri": "https://localhost:8080/"
        },
        "id": "EaJsa50nIoXA",
        "outputId": "1b01492d-d013-45e0-893c-ccab0332d4e5"
      },
      "execution_count": 5,
      "outputs": [
        {
          "output_type": "stream",
          "name": "stdout",
          "text": [
            "\n",
            "New York City is in Usa.\n",
            "The population is 8468000.\n",
            "Nearby mountains include: Adirondack Mountains.\n",
            "\n",
            "Tokyo is in Japan.\n",
            "The population is 13960000.\n",
            "Nearby mountains include: Mt. Takao.\n",
            "\n",
            "Dubai is in United Arab Emirates.\n",
            "The population is 3331000.\n",
            "Nearby mountains include: Hajar Mountains.\n"
          ]
        }
      ]
    },
    {
      "cell_type": "code",
      "source": [
        "%%file gradesdictionary.py\n",
        "\n",
        "grades = {\n",
        "  'kevin': 91,\n",
        "  'ayush': 94,\n",
        "  'bob': 97,\n",
        "  'amy': 89,\n",
        "  'ankita': 97,\n",
        "  'ned': 79,\n",
        "  'timmy': 82\n",
        "}\n"
      ],
      "metadata": {
        "colab": {
          "base_uri": "https://localhost:8080/"
        },
        "id": "Cx9KEb8NKq6p",
        "outputId": "f03ec69a-1837-49c2-c35d-ccb04697d9b6"
      },
      "execution_count": 6,
      "outputs": [
        {
          "output_type": "stream",
          "name": "stdout",
          "text": [
            "Writing gradesdictionary.py\n"
          ]
        }
      ]
    },
    {
      "cell_type": "code",
      "source": [
        "# File Import\n",
        "\n",
        "import gradesdictionary\n",
        "\n",
        "print(\"\\nNormal order -----\")\n",
        "for name, grade in gradesdictionary.grades.items():\n",
        "\n",
        "    print(f\"\\n  {name.title()}'s grade is {grade}.\")\n",
        "\n",
        "\n",
        "\n",
        "\n",
        "\n",
        "print(\"\\nAlphabetical order -----\")\n",
        "sorted_names = sorted(gradesdictionary.grades.keys())\n",
        "\n",
        "for name in sorted_names:\n",
        "    grade = gradesdictionary.grades[name]\n",
        "    print(f\"\\n  {name.title()}'s grade is {grade}.\")\n",
        "\n",
        "\n",
        "print(\"\\nHighest to lowest order -----\")\n",
        "#sorts them in high to low order\n",
        "sorted_grades = sorted(gradesdictionary.grades.items(), key=lambda x: x[1], reverse=True)\n",
        "\n",
        "for name, grade in sorted_grades:\n",
        "    print(f\"\\n  {name.title()}'s grade is {grade}.\")"
      ],
      "metadata": {
        "colab": {
          "base_uri": "https://localhost:8080/"
        },
        "id": "rldr4_WdNNqI",
        "outputId": "4c5dcdaa-f374-4079-96fb-4d5269386b18"
      },
      "execution_count": 7,
      "outputs": [
        {
          "output_type": "stream",
          "name": "stdout",
          "text": [
            "\n",
            "Normal order -----\n",
            "\n",
            "  Kevin's grade is 91.\n",
            "\n",
            "  Ayush's grade is 94.\n",
            "\n",
            "  Bob's grade is 97.\n",
            "\n",
            "  Amy's grade is 89.\n",
            "\n",
            "  Ankita's grade is 97.\n",
            "\n",
            "  Ned's grade is 79.\n",
            "\n",
            "  Timmy's grade is 82.\n",
            "\n",
            "Alphabetical order -----\n",
            "\n",
            "  Amy's grade is 89.\n",
            "\n",
            "  Ankita's grade is 97.\n",
            "\n",
            "  Ayush's grade is 94.\n",
            "\n",
            "  Bob's grade is 97.\n",
            "\n",
            "  Kevin's grade is 91.\n",
            "\n",
            "  Ned's grade is 79.\n",
            "\n",
            "  Timmy's grade is 82.\n",
            "\n",
            "Highest to lowest order -----\n",
            "\n",
            "  Bob's grade is 97.\n",
            "\n",
            "  Ankita's grade is 97.\n",
            "\n",
            "  Ayush's grade is 94.\n",
            "\n",
            "  Kevin's grade is 91.\n",
            "\n",
            "  Amy's grade is 89.\n",
            "\n",
            "  Timmy's grade is 82.\n",
            "\n",
            "  Ned's grade is 79.\n"
          ]
        }
      ]
    },
    {
      "cell_type": "code",
      "source": [],
      "metadata": {
        "id": "fW-IOCotPIjP"
      },
      "execution_count": null,
      "outputs": []
    }
  ]
}